{
 "cells": [
  {
   "cell_type": "markdown",
   "metadata": {},
   "source": [
    "## 찬양 가사 관련 분석\n",
    "\n",
    "(전체 정리가 완료 되진 않음, 모듈화도 일부분만 완료)\n",
    "1. 데이터 불러오기  \n",
    "- 곡 데이터, 앨범 데이터 각각 불러와서 하나의 테이블로 구축\n",
    "2. 가사 빈도 순위 추출  \n",
    "- word rank 방식으로 키워드 추출 하여 빈도수 검색  \n",
    "(https://lovit.github.io/nlp/2018/04/16/krwordrank/)  \n",
    "- 전체 가사 비교, 팀별 비교, 기간에 대한 비교  \n",
    "3. 가사 서머리\n",
    "- bert 기반 문장 요약 (pororo 라이브러리). \n",
    "4. 가사 유사도 검사\n",
    "- 임베딩 기법을 활용 (pororo 라이브러리)\n",
    "- 코사인 시밀러리티 비교 (scipy 라이브러리)\n",
    "- sentence embedding, tf-idf 두가지 방식으로 유사도 추출\n",
    "- 전처리 방식으로 명사 추출 (konlpy 라이브러리)\n",
    "- 모델은 중복 제거하고, 명사만 추출 하는 경우가 가장 좋아서 남김"
   ]
  },
  {
   "cell_type": "code",
   "execution_count": 1,
   "metadata": {},
   "outputs": [],
   "source": [
    "import pandas as pd\n",
    "import numpy as np\n",
    "from tqdm.notebook import tqdm"
   ]
  },
  {
   "cell_type": "markdown",
   "metadata": {},
   "source": [
    "## Data load"
   ]
  },
  {
   "cell_type": "code",
   "execution_count": 7,
   "metadata": {},
   "outputs": [],
   "source": [
    "artist_list = ['anointing', 'welove', '마커스', '마커스워십', '제이어스', '예수전도단', '아이자야']"
   ]
  },
  {
   "cell_type": "code",
   "execution_count": 8,
   "metadata": {},
   "outputs": [],
   "source": [
    "df_list = {}\n",
    "for artist_name in artist_list:\n",
    "#     artist_name = \"anointing\"\n",
    "    song_data = pd.read_csv(f\"../crawling/notebook/{artist_name}.csv\", names = [\"index\", \"title\",\"artist\",\"album\",\"lylics\"], header = 0)\n",
    "\n",
    "    album_data = pd.read_csv(f\"../crawling/notebook/{artist_name}_albums.csv\", index_col = 0)\n",
    "    data = pd.merge(song_data, album_data, on='album', how='outer')\n",
    "    df_list[artist_name] = [song_data, album_data, data]\n",
    "    "
   ]
  },
  {
   "cell_type": "code",
   "execution_count": 9,
   "metadata": {},
   "outputs": [
    {
     "data": {
      "text/html": [
       "<div>\n",
       "<style scoped>\n",
       "    .dataframe tbody tr th:only-of-type {\n",
       "        vertical-align: middle;\n",
       "    }\n",
       "\n",
       "    .dataframe tbody tr th {\n",
       "        vertical-align: top;\n",
       "    }\n",
       "\n",
       "    .dataframe thead th {\n",
       "        text-align: right;\n",
       "    }\n",
       "</style>\n",
       "<table border=\"1\" class=\"dataframe\">\n",
       "  <thead>\n",
       "    <tr style=\"text-align: right;\">\n",
       "      <th></th>\n",
       "      <th>index</th>\n",
       "      <th>title</th>\n",
       "      <th>artist_x</th>\n",
       "      <th>album</th>\n",
       "      <th>lylics</th>\n",
       "      <th>category</th>\n",
       "      <th>artist_y</th>\n",
       "      <th>title_song</th>\n",
       "      <th>date</th>\n",
       "      <th>nb_songs</th>\n",
       "      <th>hearts</th>\n",
       "    </tr>\n",
       "  </thead>\n",
       "  <tbody>\n",
       "    <tr>\n",
       "      <th>0</th>\n",
       "      <td>0</td>\n",
       "      <td>주님의 마음 있는 곳</td>\n",
       "      <td>아이자야 씩스티원(Isaiah 6tyone)</td>\n",
       "      <td>주님의 마음 있는 곳</td>\n",
       "      <td>주님의 마음이 있는 곳\\n주님의 시선이 있는 곳\\n내가 있기 원하네\\n\\n\\n\\n광...</td>\n",
       "      <td>EP</td>\n",
       "      <td>아이자야 씩스티원</td>\n",
       "      <td>주님의 마음 있는 곳</td>\n",
       "      <td>2018-12-28</td>\n",
       "      <td>5곡</td>\n",
       "      <td>205</td>\n",
       "    </tr>\n",
       "    <tr>\n",
       "      <th>1</th>\n",
       "      <td>30</td>\n",
       "      <td>I'm Not Ashamed</td>\n",
       "      <td>아이자야 씩스티원(Isaiah 6tyone)</td>\n",
       "      <td>주님의 마음 있는 곳</td>\n",
       "      <td>I’m not ashamed x2\\n예수 나의 능력되시네\\n\\nI’m not afr...</td>\n",
       "      <td>EP</td>\n",
       "      <td>아이자야 씩스티원</td>\n",
       "      <td>주님의 마음 있는 곳</td>\n",
       "      <td>2018-12-28</td>\n",
       "      <td>5곡</td>\n",
       "      <td>205</td>\n",
       "    </tr>\n",
       "    <tr>\n",
       "      <th>2</th>\n",
       "      <td>33</td>\n",
       "      <td>주의 나라</td>\n",
       "      <td>아이자야 씩스티원(Isaiah 6tyone)</td>\n",
       "      <td>주님의 마음 있는 곳</td>\n",
       "      <td>하늘에 계신 아버지\\n이름이 거룩히 여김 받으시며\\n뜻이 하늘에 이룬 것 같이\\n땅...</td>\n",
       "      <td>EP</td>\n",
       "      <td>아이자야 씩스티원</td>\n",
       "      <td>주님의 마음 있는 곳</td>\n",
       "      <td>2018-12-28</td>\n",
       "      <td>5곡</td>\n",
       "      <td>205</td>\n",
       "    </tr>\n",
       "    <tr>\n",
       "      <th>3</th>\n",
       "      <td>65</td>\n",
       "      <td>Fire</td>\n",
       "      <td>아이자야 씩스티원(Isaiah 6tyone)</td>\n",
       "      <td>주님의 마음 있는 곳</td>\n",
       "      <td>I’m moving on\\n주님의 약속 붙잡 Go\\n\\nNo holding back...</td>\n",
       "      <td>EP</td>\n",
       "      <td>아이자야 씩스티원</td>\n",
       "      <td>주님의 마음 있는 곳</td>\n",
       "      <td>2018-12-28</td>\n",
       "      <td>5곡</td>\n",
       "      <td>205</td>\n",
       "    </tr>\n",
       "    <tr>\n",
       "      <th>4</th>\n",
       "      <td>75</td>\n",
       "      <td>New Season</td>\n",
       "      <td>아이자야 씩스티원(Isaiah 6tyone)</td>\n",
       "      <td>주님의 마음 있는 곳</td>\n",
       "      <td>It’s a new season\\n주님이 주신 New day\\n\\nIt’s a ne...</td>\n",
       "      <td>EP</td>\n",
       "      <td>아이자야 씩스티원</td>\n",
       "      <td>주님의 마음 있는 곳</td>\n",
       "      <td>2018-12-28</td>\n",
       "      <td>5곡</td>\n",
       "      <td>205</td>\n",
       "    </tr>\n",
       "  </tbody>\n",
       "</table>\n",
       "</div>"
      ],
      "text/plain": [
       "   index            title                  artist_x        album  \\\n",
       "0      0      주님의 마음 있는 곳  아이자야 씩스티원(Isaiah 6tyone)  주님의 마음 있는 곳   \n",
       "1     30  I'm Not Ashamed  아이자야 씩스티원(Isaiah 6tyone)  주님의 마음 있는 곳   \n",
       "2     33            주의 나라  아이자야 씩스티원(Isaiah 6tyone)  주님의 마음 있는 곳   \n",
       "3     65             Fire  아이자야 씩스티원(Isaiah 6tyone)  주님의 마음 있는 곳   \n",
       "4     75       New Season  아이자야 씩스티원(Isaiah 6tyone)  주님의 마음 있는 곳   \n",
       "\n",
       "                                              lylics category   artist_y  \\\n",
       "0  주님의 마음이 있는 곳\\n주님의 시선이 있는 곳\\n내가 있기 원하네\\n\\n\\n\\n광...       EP  아이자야 씩스티원   \n",
       "1  I’m not ashamed x2\\n예수 나의 능력되시네\\n\\nI’m not afr...       EP  아이자야 씩스티원   \n",
       "2  하늘에 계신 아버지\\n이름이 거룩히 여김 받으시며\\n뜻이 하늘에 이룬 것 같이\\n땅...       EP  아이자야 씩스티원   \n",
       "3  I’m moving on\\n주님의 약속 붙잡 Go\\n\\nNo holding back...       EP  아이자야 씩스티원   \n",
       "4  It’s a new season\\n주님이 주신 New day\\n\\nIt’s a ne...       EP  아이자야 씩스티원   \n",
       "\n",
       "    title_song        date nb_songs  hearts  \n",
       "0  주님의 마음 있는 곳  2018-12-28       5곡     205  \n",
       "1  주님의 마음 있는 곳  2018-12-28       5곡     205  \n",
       "2  주님의 마음 있는 곳  2018-12-28       5곡     205  \n",
       "3  주님의 마음 있는 곳  2018-12-28       5곡     205  \n",
       "4  주님의 마음 있는 곳  2018-12-28       5곡     205  "
      ]
     },
     "execution_count": 9,
     "metadata": {},
     "output_type": "execute_result"
    }
   ],
   "source": [
    "data.head()"
   ]
  },
  {
   "cell_type": "code",
   "execution_count": 10,
   "metadata": {},
   "outputs": [
    {
     "data": {
      "text/plain": [
       "dict_keys(['anointing', 'welove', '마커스', '마커스워십', '제이어스', '예수전도단', '아이자야'])"
      ]
     },
     "execution_count": 10,
     "metadata": {},
     "output_type": "execute_result"
    }
   ],
   "source": [
    "df_list.keys()"
   ]
  },
  {
   "cell_type": "code",
   "execution_count": 11,
   "metadata": {},
   "outputs": [
    {
     "data": {
      "text/plain": [
       "384"
      ]
     },
     "execution_count": 11,
     "metadata": {},
     "output_type": "execute_result"
    }
   ],
   "source": [
    "len(df_list['마커스워십'][0])+len(df_list['마커스'][0])"
   ]
  },
  {
   "cell_type": "code",
   "execution_count": 12,
   "metadata": {},
   "outputs": [],
   "source": [
    "all_song_df = pd.concat([v[0] for k,v in df_list.items()])\n",
    "all_album_df = pd.concat([v[1] for k,v in df_list.items()])"
   ]
  },
  {
   "cell_type": "code",
   "execution_count": 13,
   "metadata": {},
   "outputs": [],
   "source": [
    "data = pd.merge(all_song_df, all_album_df, on='album', how='outer')"
   ]
  },
  {
   "cell_type": "code",
   "execution_count": 14,
   "metadata": {},
   "outputs": [
    {
     "data": {
      "text/html": [
       "<div>\n",
       "<style scoped>\n",
       "    .dataframe tbody tr th:only-of-type {\n",
       "        vertical-align: middle;\n",
       "    }\n",
       "\n",
       "    .dataframe tbody tr th {\n",
       "        vertical-align: top;\n",
       "    }\n",
       "\n",
       "    .dataframe thead th {\n",
       "        text-align: right;\n",
       "    }\n",
       "</style>\n",
       "<table border=\"1\" class=\"dataframe\">\n",
       "  <thead>\n",
       "    <tr style=\"text-align: right;\">\n",
       "      <th></th>\n",
       "      <th>index</th>\n",
       "      <th>title</th>\n",
       "      <th>artist_x</th>\n",
       "      <th>album</th>\n",
       "      <th>lylics</th>\n",
       "      <th>category</th>\n",
       "      <th>artist_y</th>\n",
       "      <th>title_song</th>\n",
       "      <th>date</th>\n",
       "      <th>nb_songs</th>\n",
       "      <th>hearts</th>\n",
       "    </tr>\n",
       "  </thead>\n",
       "  <tbody>\n",
       "    <tr>\n",
       "      <th>306</th>\n",
       "      <td>466.0</td>\n",
       "      <td>458</td>\n",
       "      <td>어노인팅</td>\n",
       "      <td>예배인도자 컨퍼런스 2006</td>\n",
       "      <td>NaN</td>\n",
       "      <td>정규</td>\n",
       "      <td>어노인팅</td>\n",
       "      <td>나는 주님을 찬양하리라</td>\n",
       "      <td>2007-03-22</td>\n",
       "      <td>30곡</td>\n",
       "      <td>2,385</td>\n",
       "    </tr>\n",
       "    <tr>\n",
       "      <th>791</th>\n",
       "      <td>101.0</td>\n",
       "      <td>A New Song (새 노래로)</td>\n",
       "      <td>마커스</td>\n",
       "      <td>마커스라이브워십 인 코리아</td>\n",
       "      <td>In this holy place\\nThe people of God come tog...</td>\n",
       "      <td>라이브</td>\n",
       "      <td>마커스</td>\n",
       "      <td>A New Song (새노래로)</td>\n",
       "      <td>2012-09-27</td>\n",
       "      <td>11곡</td>\n",
       "      <td>958</td>\n",
       "    </tr>\n",
       "    <tr>\n",
       "      <th>1649</th>\n",
       "      <td>85.0</td>\n",
       "      <td>Again</td>\n",
       "      <td>아이자야 씩스티원(Isaiah 6tyone)</td>\n",
       "      <td>새로운 마음</td>\n",
       "      <td>기묘자 모사라 전능하신 주님\\n누가 주와 같으리요\\n누가 주와 같으리요\\n\\n눈먼 ...</td>\n",
       "      <td>EP</td>\n",
       "      <td>아이자야 씩스티원</td>\n",
       "      <td>새로운 마음</td>\n",
       "      <td>2016-12-12</td>\n",
       "      <td>4곡</td>\n",
       "      <td>76</td>\n",
       "    </tr>\n",
       "    <tr>\n",
       "      <th>1571</th>\n",
       "      <td>31.0</td>\n",
       "      <td>Again</td>\n",
       "      <td>아이자야 씩스티원(Isaiah 6tyone)</td>\n",
       "      <td>RE-</td>\n",
       "      <td>기묘자 모사라 전능하신 주님\\n누가 주와 같으리요 누가 주와 같으리요\\n눈먼 자 묶...</td>\n",
       "      <td>EP</td>\n",
       "      <td>아이자야 씩스티원</td>\n",
       "      <td>Again</td>\n",
       "      <td>2015-11-19</td>\n",
       "      <td>7곡</td>\n",
       "      <td>264</td>\n",
       "    </tr>\n",
       "    <tr>\n",
       "      <th>800</th>\n",
       "      <td>176.0</td>\n",
       "      <td>All The Earth (온 땅이여 여호와를)</td>\n",
       "      <td>마커스</td>\n",
       "      <td>마커스라이브워십 인 코리아</td>\n",
       "      <td>Shout joyful praises to God All the earth\\nCom...</td>\n",
       "      <td>라이브</td>\n",
       "      <td>마커스</td>\n",
       "      <td>A New Song (새노래로)</td>\n",
       "      <td>2012-09-27</td>\n",
       "      <td>11곡</td>\n",
       "      <td>958</td>\n",
       "    </tr>\n",
       "    <tr>\n",
       "      <th>1094</th>\n",
       "      <td>49.0</td>\n",
       "      <td>Amazing Grace</td>\n",
       "      <td>제이어스(J-US)</td>\n",
       "      <td>헤세드 (Chesed)</td>\n",
       "      <td>나 같은 죄인 살리신\\n주 은혜 놀라워\\n잃었던 생명 찾았고\\n광명을 얻었네\\n큰 ...</td>\n",
       "      <td>EP</td>\n",
       "      <td>제이어스</td>\n",
       "      <td>Jesus</td>\n",
       "      <td>2012-05-29</td>\n",
       "      <td>5곡</td>\n",
       "      <td>1,166</td>\n",
       "    </tr>\n",
       "    <tr>\n",
       "      <th>1603</th>\n",
       "      <td>89.0</td>\n",
       "      <td>Arise</td>\n",
       "      <td>아이자야 씩스티원(Isaiah 6tyone)</td>\n",
       "      <td>예슈아 (Yeshua)</td>\n",
       "      <td>하나님의 택한 세대 하나님의 속한소유\\n영원히 주 이름 찬양\\n주의 거룩한 세대 주...</td>\n",
       "      <td>정규</td>\n",
       "      <td>아이자야 씩스티원</td>\n",
       "      <td>Yeshua</td>\n",
       "      <td>2012-08-01</td>\n",
       "      <td>12곡</td>\n",
       "      <td>219</td>\n",
       "    </tr>\n",
       "    <tr>\n",
       "      <th>1660</th>\n",
       "      <td>88.0</td>\n",
       "      <td>Arise</td>\n",
       "      <td>아이자야 씩스티원(Isaiah 6tyone)</td>\n",
       "      <td>Arise</td>\n",
       "      <td>하나님의 택한 세대 하나님의 속한소유\\n영원히 주 이름 찬양\\n주의 거룩한 세대 주...</td>\n",
       "      <td>싱글</td>\n",
       "      <td>아이자야 씩스티원</td>\n",
       "      <td>Arise</td>\n",
       "      <td>2011-12-01</td>\n",
       "      <td>5곡</td>\n",
       "      <td>40</td>\n",
       "    </tr>\n",
       "    <tr>\n",
       "      <th>797</th>\n",
       "      <td>141.0</td>\n",
       "      <td>At The Place Where You Call (부르신 곳에서)</td>\n",
       "      <td>마커스</td>\n",
       "      <td>마커스라이브워십 인 코리아</td>\n",
       "      <td>God of love and kindness\\nYour presence in me\\...</td>\n",
       "      <td>라이브</td>\n",
       "      <td>마커스</td>\n",
       "      <td>A New Song (새노래로)</td>\n",
       "      <td>2012-09-27</td>\n",
       "      <td>11곡</td>\n",
       "      <td>958</td>\n",
       "    </tr>\n",
       "    <tr>\n",
       "      <th>220</th>\n",
       "      <td>312.0</td>\n",
       "      <td>Baba Alfisama</td>\n",
       "      <td>어노인팅</td>\n",
       "      <td>어노인팅 11집</td>\n",
       "      <td>바바 알피사마 마피 타 니제이 타\\n(Baba Alfisama Mafi ta nij...</td>\n",
       "      <td>정규</td>\n",
       "      <td>어노인팅</td>\n",
       "      <td>비전 (우리 보좌 앞에 모였네)</td>\n",
       "      <td>2015-03-12</td>\n",
       "      <td>18곡</td>\n",
       "      <td>2,820</td>\n",
       "    </tr>\n",
       "  </tbody>\n",
       "</table>\n",
       "</div>"
      ],
      "text/plain": [
       "      index                                  title                  artist_x  \\\n",
       "306   466.0                                    458                      어노인팅   \n",
       "791   101.0                     A New Song (새 노래로)                       마커스   \n",
       "1649   85.0                                  Again  아이자야 씩스티원(Isaiah 6tyone)   \n",
       "1571   31.0                                  Again  아이자야 씩스티원(Isaiah 6tyone)   \n",
       "800   176.0             All The Earth (온 땅이여 여호와를)                       마커스   \n",
       "1094   49.0                          Amazing Grace                제이어스(J-US)   \n",
       "1603   89.0                                  Arise  아이자야 씩스티원(Isaiah 6tyone)   \n",
       "1660   88.0                                  Arise  아이자야 씩스티원(Isaiah 6tyone)   \n",
       "797   141.0  At The Place Where You Call (부르신 곳에서)                       마커스   \n",
       "220   312.0                          Baba Alfisama                      어노인팅   \n",
       "\n",
       "                album                                             lylics  \\\n",
       "306   예배인도자 컨퍼런스 2006                                                NaN   \n",
       "791    마커스라이브워십 인 코리아  In this holy place\\nThe people of God come tog...   \n",
       "1649           새로운 마음  기묘자 모사라 전능하신 주님\\n누가 주와 같으리요\\n누가 주와 같으리요\\n\\n눈먼 ...   \n",
       "1571              RE-  기묘자 모사라 전능하신 주님\\n누가 주와 같으리요 누가 주와 같으리요\\n눈먼 자 묶...   \n",
       "800    마커스라이브워십 인 코리아  Shout joyful praises to God All the earth\\nCom...   \n",
       "1094     헤세드 (Chesed)  나 같은 죄인 살리신\\n주 은혜 놀라워\\n잃었던 생명 찾았고\\n광명을 얻었네\\n큰 ...   \n",
       "1603     예슈아 (Yeshua)  하나님의 택한 세대 하나님의 속한소유\\n영원히 주 이름 찬양\\n주의 거룩한 세대 주...   \n",
       "1660            Arise  하나님의 택한 세대 하나님의 속한소유\\n영원히 주 이름 찬양\\n주의 거룩한 세대 주...   \n",
       "797    마커스라이브워십 인 코리아  God of love and kindness\\nYour presence in me\\...   \n",
       "220          어노인팅 11집  바바 알피사마 마피 타 니제이 타\\n(Baba Alfisama Mafi ta nij...   \n",
       "\n",
       "     category   artist_y         title_song        date nb_songs hearts  \n",
       "306        정규       어노인팅       나는 주님을 찬양하리라  2007-03-22      30곡  2,385  \n",
       "791       라이브        마커스  A New Song (새노래로)  2012-09-27      11곡    958  \n",
       "1649       EP  아이자야 씩스티원             새로운 마음  2016-12-12       4곡     76  \n",
       "1571       EP  아이자야 씩스티원              Again  2015-11-19       7곡    264  \n",
       "800       라이브        마커스  A New Song (새노래로)  2012-09-27      11곡    958  \n",
       "1094       EP       제이어스              Jesus  2012-05-29       5곡  1,166  \n",
       "1603       정규  아이자야 씩스티원             Yeshua  2012-08-01      12곡    219  \n",
       "1660       싱글  아이자야 씩스티원              Arise  2011-12-01       5곡     40  \n",
       "797       라이브        마커스  A New Song (새노래로)  2012-09-27      11곡    958  \n",
       "220        정규       어노인팅  비전 (우리 보좌 앞에 모였네)  2015-03-12      18곡  2,820  "
      ]
     },
     "execution_count": 14,
     "metadata": {},
     "output_type": "execute_result"
    }
   ],
   "source": [
    "# del data['artist_y']\n",
    "# del data['index']\n",
    "data.sort_values(by = 'title', ascending = True).head(10)"
   ]
  },
  {
   "cell_type": "code",
   "execution_count": 15,
   "metadata": {},
   "outputs": [
    {
     "data": {
      "text/html": [
       "<div>\n",
       "<style scoped>\n",
       "    .dataframe tbody tr th:only-of-type {\n",
       "        vertical-align: middle;\n",
       "    }\n",
       "\n",
       "    .dataframe tbody tr th {\n",
       "        vertical-align: top;\n",
       "    }\n",
       "\n",
       "    .dataframe thead th {\n",
       "        text-align: right;\n",
       "    }\n",
       "</style>\n",
       "<table border=\"1\" class=\"dataframe\">\n",
       "  <thead>\n",
       "    <tr style=\"text-align: right;\">\n",
       "      <th></th>\n",
       "      <th>index</th>\n",
       "      <th>title</th>\n",
       "      <th>artist_x</th>\n",
       "      <th>album</th>\n",
       "      <th>lylics</th>\n",
       "      <th>category</th>\n",
       "      <th>artist_y</th>\n",
       "      <th>title_song</th>\n",
       "      <th>date</th>\n",
       "      <th>nb_songs</th>\n",
       "      <th>hearts</th>\n",
       "    </tr>\n",
       "  </thead>\n",
       "  <tbody>\n",
       "    <tr>\n",
       "      <th>0</th>\n",
       "      <td>0.0</td>\n",
       "      <td>온 땅의 주인 (Who Am I)</td>\n",
       "      <td>어노인팅</td>\n",
       "      <td>어노인팅 12집</td>\n",
       "      <td>온 땅의 주인 되신 주님이\\n내 이름 아시며 상한 맘 돌보네\\n어둠을 밝히시는 새벽...</td>\n",
       "      <td>정규</td>\n",
       "      <td>어노인팅</td>\n",
       "      <td>나에게도 말씀하소서</td>\n",
       "      <td>2017-02-16</td>\n",
       "      <td>15곡</td>\n",
       "      <td>2,526</td>\n",
       "    </tr>\n",
       "    <tr>\n",
       "      <th>1</th>\n",
       "      <td>25.0</td>\n",
       "      <td>매일 매일</td>\n",
       "      <td>어노인팅</td>\n",
       "      <td>어노인팅 12집</td>\n",
       "      <td>매일 매일\\n반복되는 갈등 속에 하루하루\\n선택이란 갈림길에 치열하게\\n살아가는 우...</td>\n",
       "      <td>정규</td>\n",
       "      <td>어노인팅</td>\n",
       "      <td>나에게도 말씀하소서</td>\n",
       "      <td>2017-02-16</td>\n",
       "      <td>15곡</td>\n",
       "      <td>2,526</td>\n",
       "    </tr>\n",
       "    <tr>\n",
       "      <th>2</th>\n",
       "      <td>81.0</td>\n",
       "      <td>주 사랑 앞에 엎드려</td>\n",
       "      <td>어노인팅</td>\n",
       "      <td>어노인팅 12집</td>\n",
       "      <td>주 사랑 앞에 엎드려\\n그 인자하심 경배해\\n두렵고 친밀한 주님\\n내 영혼 떨며 기...</td>\n",
       "      <td>정규</td>\n",
       "      <td>어노인팅</td>\n",
       "      <td>나에게도 말씀하소서</td>\n",
       "      <td>2017-02-16</td>\n",
       "      <td>15곡</td>\n",
       "      <td>2,526</td>\n",
       "    </tr>\n",
       "    <tr>\n",
       "      <th>3</th>\n",
       "      <td>103.0</td>\n",
       "      <td>나에게도 말씀하소서</td>\n",
       "      <td>어노인팅</td>\n",
       "      <td>어노인팅 12집</td>\n",
       "      <td>낯설고 고된 삶 내 마음 들추는\\n덧없는 상실 속에서\\n외롭고 거친 삶 내 마음 떨...</td>\n",
       "      <td>정규</td>\n",
       "      <td>어노인팅</td>\n",
       "      <td>나에게도 말씀하소서</td>\n",
       "      <td>2017-02-16</td>\n",
       "      <td>15곡</td>\n",
       "      <td>2,526</td>\n",
       "    </tr>\n",
       "    <tr>\n",
       "      <th>4</th>\n",
       "      <td>112.0</td>\n",
       "      <td>주와 마주할 그 때</td>\n",
       "      <td>어노인팅</td>\n",
       "      <td>어노인팅 12집</td>\n",
       "      <td>영원한 시간을 빚으시고\\n영원한 생명을 놓으신 주\\n한낱 숨결 같은 세월을 딛고\\n...</td>\n",
       "      <td>정규</td>\n",
       "      <td>어노인팅</td>\n",
       "      <td>나에게도 말씀하소서</td>\n",
       "      <td>2017-02-16</td>\n",
       "      <td>15곡</td>\n",
       "      <td>2,526</td>\n",
       "    </tr>\n",
       "  </tbody>\n",
       "</table>\n",
       "</div>"
      ],
      "text/plain": [
       "   index               title artist_x     album  \\\n",
       "0    0.0  온 땅의 주인 (Who Am I)     어노인팅  어노인팅 12집   \n",
       "1   25.0               매일 매일     어노인팅  어노인팅 12집   \n",
       "2   81.0         주 사랑 앞에 엎드려     어노인팅  어노인팅 12집   \n",
       "3  103.0          나에게도 말씀하소서     어노인팅  어노인팅 12집   \n",
       "4  112.0          주와 마주할 그 때     어노인팅  어노인팅 12집   \n",
       "\n",
       "                                              lylics category artist_y  \\\n",
       "0  온 땅의 주인 되신 주님이\\n내 이름 아시며 상한 맘 돌보네\\n어둠을 밝히시는 새벽...       정규     어노인팅   \n",
       "1  매일 매일\\n반복되는 갈등 속에 하루하루\\n선택이란 갈림길에 치열하게\\n살아가는 우...       정규     어노인팅   \n",
       "2  주 사랑 앞에 엎드려\\n그 인자하심 경배해\\n두렵고 친밀한 주님\\n내 영혼 떨며 기...       정규     어노인팅   \n",
       "3  낯설고 고된 삶 내 마음 들추는\\n덧없는 상실 속에서\\n외롭고 거친 삶 내 마음 떨...       정규     어노인팅   \n",
       "4  영원한 시간을 빚으시고\\n영원한 생명을 놓으신 주\\n한낱 숨결 같은 세월을 딛고\\n...       정규     어노인팅   \n",
       "\n",
       "   title_song        date nb_songs hearts  \n",
       "0  나에게도 말씀하소서  2017-02-16      15곡  2,526  \n",
       "1  나에게도 말씀하소서  2017-02-16      15곡  2,526  \n",
       "2  나에게도 말씀하소서  2017-02-16      15곡  2,526  \n",
       "3  나에게도 말씀하소서  2017-02-16      15곡  2,526  \n",
       "4  나에게도 말씀하소서  2017-02-16      15곡  2,526  "
      ]
     },
     "execution_count": 15,
     "metadata": {},
     "output_type": "execute_result"
    }
   ],
   "source": [
    "data.head()"
   ]
  },
  {
   "cell_type": "code",
   "execution_count": 16,
   "metadata": {},
   "outputs": [
    {
     "data": {
      "text/plain": [
       "{'WELOVE',\n",
       " '구현화, 예수전도단, 이천',\n",
       " '그래쓰(GRASS), WELOVE',\n",
       " '마커스',\n",
       " '마커스워십 (MARKERS WORSHIP)',\n",
       " '마커스워십(MARKERS WORSHIP)',\n",
       " '범키, WELOVE',\n",
       " '아이자야 씩스티원(Isaiah 6tyone)',\n",
       " '어노인팅',\n",
       " '예수전도단',\n",
       " '예수전도단, 이천',\n",
       " '예수전도단, 이천, 주리(Juri)',\n",
       " '예수전도단, 이천, 최주희',\n",
       " '제이어스(J-US)'}"
      ]
     },
     "execution_count": 16,
     "metadata": {},
     "output_type": "execute_result"
    }
   ],
   "source": [
    "set(all_song_df['artist'])"
   ]
  },
  {
   "cell_type": "markdown",
   "metadata": {},
   "source": [
    "## lylics exract "
   ]
  },
  {
   "cell_type": "code",
   "execution_count": 17,
   "metadata": {},
   "outputs": [],
   "source": [
    "song_data = all_song_df\n",
    "corpus = sum(list(song_data['lylics'][song_data['lylics'].notna()].map(lambda x : x.split(\"\\n\"))), [])\n"
   ]
  },
  {
   "cell_type": "code",
   "execution_count": 18,
   "metadata": {},
   "outputs": [
    {
     "data": {
      "text/plain": [
       "34091"
      ]
     },
     "execution_count": 18,
     "metadata": {},
     "output_type": "execute_result"
    }
   ],
   "source": [
    "len(corpus)"
   ]
  },
  {
   "cell_type": "code",
   "execution_count": 19,
   "metadata": {},
   "outputs": [],
   "source": [
    "unique_corpus = set(corpus)"
   ]
  },
  {
   "cell_type": "code",
   "execution_count": 20,
   "metadata": {},
   "outputs": [
    {
     "data": {
      "text/plain": [
       "12898"
      ]
     },
     "execution_count": 20,
     "metadata": {},
     "output_type": "execute_result"
    }
   ],
   "source": [
    "len(unique_corpus)"
   ]
  },
  {
   "cell_type": "markdown",
   "metadata": {},
   "source": [
    "## word cloud using wordrank"
   ]
  },
  {
   "cell_type": "code",
   "execution_count": 17,
   "metadata": {},
   "outputs": [
    {
     "ename": "ModuleNotFoundError",
     "evalue": "No module named 'wordcloud'",
     "output_type": "error",
     "traceback": [
      "\u001b[0;31m---------------------------------------------------------------------------\u001b[0m",
      "\u001b[0;31mModuleNotFoundError\u001b[0m                       Traceback (most recent call last)",
      "\u001b[0;32m<ipython-input-17-c5258f0cc6f1>\u001b[0m in \u001b[0;36m<module>\u001b[0;34m\u001b[0m\n\u001b[1;32m      2\u001b[0m \u001b[0;32mfrom\u001b[0m \u001b[0mkrwordrank\u001b[0m\u001b[0;34m.\u001b[0m\u001b[0mword\u001b[0m \u001b[0;32mimport\u001b[0m \u001b[0mKRWordRank\u001b[0m\u001b[0;34m\u001b[0m\u001b[0;34m\u001b[0m\u001b[0m\n\u001b[1;32m      3\u001b[0m \u001b[0;34m\u001b[0m\u001b[0m\n\u001b[0;32m----> 4\u001b[0;31m \u001b[0;32mfrom\u001b[0m \u001b[0mwordcloud\u001b[0m \u001b[0;32mimport\u001b[0m \u001b[0mWordCloud\u001b[0m\u001b[0;34m\u001b[0m\u001b[0;34m\u001b[0m\u001b[0m\n\u001b[0m\u001b[1;32m      5\u001b[0m \u001b[0;32mimport\u001b[0m \u001b[0mmatplotlib\u001b[0m\u001b[0;34m.\u001b[0m\u001b[0mpyplot\u001b[0m \u001b[0;32mas\u001b[0m \u001b[0mplt\u001b[0m\u001b[0;34m\u001b[0m\u001b[0;34m\u001b[0m\u001b[0m\n\u001b[1;32m      6\u001b[0m \u001b[0;32mfrom\u001b[0m \u001b[0mPIL\u001b[0m \u001b[0;32mimport\u001b[0m \u001b[0mImage\u001b[0m\u001b[0;34m\u001b[0m\u001b[0;34m\u001b[0m\u001b[0m\n",
      "\u001b[0;31mModuleNotFoundError\u001b[0m: No module named 'wordcloud'"
     ]
    }
   ],
   "source": [
    "from krwordrank.hangle import normalize\n",
    "from krwordrank.word import KRWordRank\n",
    "\n",
    "from wordcloud import WordCloud\n",
    "import matplotlib.pyplot as plt\n",
    "from PIL import Image"
   ]
  },
  {
   "cell_type": "code",
   "execution_count": null,
   "metadata": {},
   "outputs": [],
   "source": [
    "def make_keyword(corpus, unique_mode = True, min_count = 5):\n",
    "    \n",
    "    if unique_mode:\n",
    "        corpus = set(corpus)\n",
    "    \n",
    "    texts = [normalize(text, english=True, number=True) for text in corpus]\n",
    "\n",
    "    wordrank_extractor = KRWordRank(\n",
    "        min_count = 5, # 단어의 최소 출현 빈도수 (그래프 생성 시)\n",
    "        max_length = 10, # 단어의 최대 길이\n",
    "        verbose = True\n",
    "        )\n",
    "\n",
    "    beta = 0.85    # PageRank의 decaying factor beta\n",
    "    max_iter = 10\n",
    "\n",
    "    keywords, rank, graph = wordrank_extractor.extract(texts, beta, max_iter)\n",
    "    \n",
    "    rank_freq = {}\n",
    "    for word, r in sorted(keywords.items(), key=lambda x:x[1], reverse=True):\n",
    "    #     print('%8s:\\t%.4f' % (word, r))\n",
    "        rank_freq[word] = r\n",
    "        \n",
    "    return rank_freq\n",
    "\n",
    "def show_wordcloud(rank_freq, show=True):\n",
    "    \n",
    "    alice_mask = np.array(Image.open(\"../image/aninting_black.jpg\"))\n",
    "\n",
    "    wordcloud = WordCloud(\n",
    "        font_path = '/Users/hyun-young/Library/Application Support/vrew/fonts/NotoSansCJKkr-Bold.otf',\n",
    "        width = 800,\n",
    "        height = 800,\n",
    "        background_color=\"white\",\n",
    "#         mask=alice_mask\n",
    "    )\n",
    "    # wordcloud = wordcloud.generate_from_text(title_str)\n",
    "    wordcloud = wordcloud.generate_from_frequencies(rank_freq)\n",
    "    array = wordcloud.to_array()\n",
    "#     print(type(array)) # numpy.ndarray\n",
    "#     print(array.shape) # (800, 800, 3)\n",
    "    if show:\n",
    "        fig = plt.figure(figsize=(16, 10))\n",
    "        plt.imshow(array, interpolation=\"bilinear\")\n",
    "        plt.axis(\"off\")\n",
    "        plt.show()\n",
    "    # fig.savefig('wordcloud_without_axisoff.png')\n",
    "    \n",
    "    return wordcloud\n",
    "\n",
    "def show_wordcloud_by_text(corpus, show=True):\n",
    "    \n",
    "    alice_mask = np.array(Image.open(\"../image/aninting_black.jpg\"))\n",
    "\n",
    "    wordcloud = WordCloud(\n",
    "        font_path = '/Users/hyun-young/Library/Application Support/vrew/fonts/NotoSansCJKkr-Bold.otf',\n",
    "        width = 800,\n",
    "        height = 800,\n",
    "        background_color=\"white\",\n",
    "#         mask=alice_mask\n",
    "    )\n",
    "    wordcloud = wordcloud.generate_from_text(' '.join(corpus))\n",
    "#     wordcloud = wordcloud.generate_from_frequencies(rank_freq)\n",
    "    array = wordcloud.to_array()\n",
    "#     print(type(array)) # numpy.ndarray\n",
    "#     print(array.shape) # (800, 800, 3)\n",
    "\n",
    "    if show:\n",
    "        fig = plt.figure(figsize=(16, 10))\n",
    "        plt.imshow(array, interpolation=\"bilinear\")\n",
    "        plt.axis(\"off\")\n",
    "        plt.show()\n",
    "    # fig.savefig('wordcloud_without_axisoff.png')\n",
    "    \n",
    "    return wordcloud"
   ]
  },
  {
   "cell_type": "code",
   "execution_count": null,
   "metadata": {},
   "outputs": [],
   "source": [
    "len(corpus)"
   ]
  },
  {
   "cell_type": "code",
   "execution_count": null,
   "metadata": {},
   "outputs": [],
   "source": [
    "len(set(corpus))"
   ]
  },
  {
   "cell_type": "code",
   "execution_count": null,
   "metadata": {},
   "outputs": [],
   "source": [
    "from pororo import Pororo\n",
    "\n",
    "tk = Pororo(task=\"tokenization\", lang=\"ko\", model=\"bpe32k.ko\")\n",
    "\n",
    "tk_result = tk(' '.join(corpus))\n",
    "freq = dict([(k.replace(\"▁\",\"\"),v) for k,v in pd.Series(tk_result).value_counts().items()][1:])"
   ]
  },
  {
   "cell_type": "code",
   "execution_count": null,
   "metadata": {},
   "outputs": [],
   "source": [
    "mask = np.array(Image.open(\"../image/aninting_black.jpg\"))\n",
    "wordcloud = WordCloud(\n",
    "    font_path = '/Users/hyun-young/Library/Application Support/vrew/fonts/NotoSansCJKkr-Bold.otf',\n",
    "    width = 800,\n",
    "    height = 800,\n",
    "    background_color=\"white\",\n",
    ")"
   ]
  },
  {
   "cell_type": "code",
   "execution_count": null,
   "metadata": {},
   "outputs": [],
   "source": [
    "rank_freq = make_keyword(set(corpus))\n",
    "wc = show_wordcloud(rank_freq)"
   ]
  },
  {
   "cell_type": "code",
   "execution_count": null,
   "metadata": {},
   "outputs": [],
   "source": [
    "wcsub = show_wordcloud_by_text(set(corpus))"
   ]
  },
  {
   "cell_type": "code",
   "execution_count": null,
   "metadata": {},
   "outputs": [],
   "source": [
    "wcsub.words_"
   ]
  },
  {
   "cell_type": "code",
   "execution_count": null,
   "metadata": {},
   "outputs": [],
   "source": [
    "[k for k,v in wc.words_.items()][:10]"
   ]
  },
  {
   "cell_type": "markdown",
   "metadata": {},
   "source": [
    "## 팀별 비교"
   ]
  },
  {
   "cell_type": "code",
   "execution_count": 18,
   "metadata": {},
   "outputs": [
    {
     "data": {
      "text/plain": [
       "dict_keys(['anointing', 'welove', '마커스', '마커스워십', '제이어스', '예수전도단', '아이자야'])"
      ]
     },
     "execution_count": 18,
     "metadata": {},
     "output_type": "execute_result"
    }
   ],
   "source": [
    "df_list.keys()"
   ]
  },
  {
   "cell_type": "code",
   "execution_count": 19,
   "metadata": {
    "scrolled": true
   },
   "outputs": [
    {
     "name": "stdout",
     "output_type": "stream",
     "text": [
      "scan vocabs ... \n",
      "num vocabs = 2616\n",
      "done = 10 Early stopped.\n",
      "scan vocabs ... \n",
      "num vocabs = 495\n",
      "done = 10\n",
      "scan vocabs ... \n",
      "num vocabs = 1314\n",
      "done = 10 Early stopped.\n",
      "scan vocabs ... \n",
      "num vocabs = 602\n",
      "done = 10\n",
      "scan vocabs ... \n",
      "num vocabs = 360\n",
      "done = 10\n",
      "scan vocabs ... \n",
      "num vocabs = 1835\n",
      "done = 10\n",
      "scan vocabs ... \n",
      "num vocabs = 551\n",
      "done = 10\n"
     ]
    }
   ],
   "source": [
    "artist_words = {}\n",
    "\n",
    "for target in df_list.keys():\n",
    "    target_songs_df = df_list[target][0]\n",
    "    target_songs_df.head()\n",
    "\n",
    "    target_corpus = set(sum(list(target_songs_df['lylics'][target_songs_df['lylics'].notna()].map(lambda x : x.split(\"\\n\"))), []))\n",
    "    target_rank_freq = make_keyword(target_corpus)\n",
    "    target_wc = show_wordcloud(target_rank_freq, show=False)\n",
    "\n",
    "    artist_words[target] = dict([(k,v) for k,v in list(target_wc.words_.items())[:20]])\n",
    "    "
   ]
  },
  {
   "cell_type": "code",
   "execution_count": 192,
   "metadata": {},
   "outputs": [
    {
     "data": {
      "text/plain": [
       "{'anointing': {'주님': 1.0,\n",
       "  '주의': 0.9630875388307676,\n",
       "  '나의': 0.5815524585433302,\n",
       "  '사랑': 0.5749392550582794,\n",
       "  '주를': 0.5235639176601735,\n",
       "  '찬양': 0.5045944530451303,\n",
       "  '예수': 0.4891039629028778,\n",
       "  '우리': 0.48204062999688885,\n",
       "  '모든': 0.4480364842195059,\n",
       "  '나를': 0.38153997010682233,\n",
       "  '하나님': 0.32742499549710113,\n",
       "  '영광': 0.32454945322947726,\n",
       "  '영원': 0.2953836287648435,\n",
       "  '주께': 0.251107391802909,\n",
       "  '함께': 0.24577866990391234,\n",
       "  '노래': 0.2346966329702374,\n",
       "  '이름': 0.23200006169031823,\n",
       "  '할렐루야': 0.23121433760639368,\n",
       "  '기뻐': 0.20143070805161112,\n",
       "  '세상': 0.17468766109789352},\n",
       " 'welove': {'the': 1.0,\n",
       "  '우리': 0.8248284315809563,\n",
       "  '사랑': 0.7741412172726095,\n",
       "  '영원히': 0.48124473060621215,\n",
       "  '찬양': 0.47390487989987035,\n",
       "  '나의': 0.45146282734992305,\n",
       "  'and': 0.44733248620223587,\n",
       "  '주의': 0.4293870167559417,\n",
       "  'us': 0.37298832537432325,\n",
       "  'to': 0.3686051796610714,\n",
       "  '모든': 0.35367821535608596,\n",
       "  'of': 0.34019220731826855,\n",
       "  '함께': 0.3266825319276755,\n",
       "  '우릴': 0.3195656595613088,\n",
       "  'for': 0.30402836428370644,\n",
       "  'you': 0.2963751400129958,\n",
       "  '주님': 0.29325885550446285,\n",
       "  'is': 0.2915120861175244,\n",
       "  'He': 0.2831435331599608,\n",
       "  '그가': 0.2653562617329651},\n",
       " '마커스': {'주님': 1.0,\n",
       "  '주의': 0.8952406468479429,\n",
       "  'the': 0.6967592985458306,\n",
       "  '나의': 0.616515364510004,\n",
       "  '찬양': 0.6099435439695312,\n",
       "  'You': 0.5401502721532789,\n",
       "  '사랑': 0.5160024396790426,\n",
       "  '할렐루야': 0.40685769613520356,\n",
       "  '나를': 0.388772272180124,\n",
       "  'my': 0.358868666469536,\n",
       "  '우리': 0.34975808205429143,\n",
       "  '주께': 0.32932978990190864,\n",
       "  '영광': 0.32379400253671303,\n",
       "  'of': 0.32131714554990887,\n",
       "  '예수': 0.3183803273617595,\n",
       "  '모든': 0.3044751170183484,\n",
       "  '주를': 0.3020422726267483,\n",
       "  'me': 0.2878366782119849,\n",
       "  '하나님': 0.25318871535125925,\n",
       "  '세상': 0.2504546652922249},\n",
       " '마커스워십': {'주의': 1.0,\n",
       "  '주님': 0.7047933074973998,\n",
       "  '나의': 0.5708419340417457,\n",
       "  '사랑': 0.47874141940424436,\n",
       "  '찬양': 0.34060461484053817,\n",
       "  '나를': 0.2991264058528081,\n",
       "  '모든': 0.26282450640122107,\n",
       "  '주를': 0.24662712693107294,\n",
       "  '우리': 0.23324368127964726,\n",
       "  '함께': 0.22816559344613552,\n",
       "  'You': 0.20344991840390603,\n",
       "  '노래': 0.19035615742956538,\n",
       "  '속에': 0.18189898919199893,\n",
       "  '세상': 0.16835552079408123,\n",
       "  '이름': 0.16804729276543098,\n",
       "  '영광': 0.16560975926992125,\n",
       "  '주께': 0.16408988963781762,\n",
       "  '마음': 0.15409516997434755,\n",
       "  '영원': 0.1519443405917939,\n",
       "  '삶을': 0.14938299155185142},\n",
       " '제이어스': {'사랑': 1.0,\n",
       "  '주의': 0.9223550295711362,\n",
       "  '주를': 0.5103266244082614,\n",
       "  '은혜': 0.474793564573034,\n",
       "  '나를': 0.47100664756170735,\n",
       "  '나의': 0.4648322526070992,\n",
       "  '주님': 0.46174521931721113,\n",
       "  '찬양': 0.3909963666305245,\n",
       "  '안에': 0.32183911507170787,\n",
       "  '예수': 0.3190691100418006,\n",
       "  'You': 0.31788844547925693,\n",
       "  '할렐루야': 0.3135904714743533,\n",
       "  '주께': 0.3118634641926313,\n",
       "  '영원': 0.30175392243104604,\n",
       "  '내게': 0.27710375283216027,\n",
       "  '높이': 0.27147416665936275,\n",
       "  '모든': 0.24931455701304314,\n",
       "  '이름': 0.22590995440703152,\n",
       "  '주만': 0.2206103224385382,\n",
       "  '기뻐': 0.21437090541378032},\n",
       " '예수전도단': {'주님': 1.0,\n",
       "  '주의': 0.9308326535064315,\n",
       "  '예수': 0.6781448651403,\n",
       "  '우리': 0.6220437162189477,\n",
       "  '사랑': 0.5733762727784585,\n",
       "  '나의': 0.5404281772696214,\n",
       "  '찬양': 0.4951546390520606,\n",
       "  '모든': 0.4910978604628377,\n",
       "  '주를': 0.46143812685225677,\n",
       "  '영광': 0.43448875032438433,\n",
       "  '하나님': 0.4305548326856191,\n",
       "  '주께': 0.3516260846013102,\n",
       "  '영원': 0.3403181933703565,\n",
       "  '나를': 0.30048818270234,\n",
       "  '이름': 0.28430648635651334,\n",
       "  '함께': 0.26138775207324577,\n",
       "  '하소서': 0.25669013804450885,\n",
       "  '세상': 0.255089811911758,\n",
       "  '구원': 0.2440456125355249,\n",
       "  '할렐루야': 0.23708111125155235},\n",
       " '아이자야': {'주의': 1.0,\n",
       "  '주님': 0.5799129521680988,\n",
       "  '이름': 0.5691682408281651,\n",
       "  '예수': 0.534215592433117,\n",
       "  '모든': 0.5230268025289687,\n",
       "  '찬양': 0.3905942981948428,\n",
       "  'Yeah': 0.3869160534663486,\n",
       "  '나의': 0.38094722355767535,\n",
       "  'We': 0.3747271878762369,\n",
       "  'Jesus': 0.37306802859292604,\n",
       "  'you': 0.33678088131158623,\n",
       "  '우리': 0.33563466578832785,\n",
       "  '말씀': 0.3217589786923858,\n",
       "  'His': 0.3179766833846936,\n",
       "  '할렐루야': 0.3121432632340714,\n",
       "  '사랑': 0.31079551658503196,\n",
       "  'our': 0.2536175383020393,\n",
       "  '안에': 0.24621621014907347,\n",
       "  '마음': 0.24532740845698195,\n",
       "  '나라': 0.2427379586006183}}"
      ]
     },
     "execution_count": 192,
     "metadata": {},
     "output_type": "execute_result"
    }
   ],
   "source": [
    "artist_words"
   ]
  },
  {
   "cell_type": "markdown",
   "metadata": {},
   "source": [
    "## 앨범별 키워드 추출"
   ]
  },
  {
   "cell_type": "code",
   "execution_count": null,
   "metadata": {
    "scrolled": true
   },
   "outputs": [],
   "source": [
    "keyword_by_album = []\n",
    "\n",
    "for album_name in set(data['album']):\n",
    "    target_data = data[data['album'] == album_name]\n",
    "    target_corpus = sum(list(target_data['lylics'][target_data['lylics'].notna()].map(lambda x : x.split(\"\\n\"))), [])\n",
    "    \n",
    "    target_rank_freq = make_keyword(target_corpus)\n",
    "#     _ = show_wordcloud(target_rank_freq)\n",
    "    \n",
    "    keyword_by_album.append(target_rank_freq)"
   ]
  },
  {
   "cell_type": "code",
   "execution_count": null,
   "metadata": {},
   "outputs": [],
   "source": [
    "[list(i.items())[:5] for i in keyword_by_album]"
   ]
  },
  {
   "cell_type": "markdown",
   "metadata": {},
   "source": [
    "## 연도별 키워드 추출"
   ]
  },
  {
   "cell_type": "code",
   "execution_count": 20,
   "metadata": {},
   "outputs": [],
   "source": [
    "data['year'] = data['date'].map(lambda x: str(x).split(\"-\")[0])"
   ]
  },
  {
   "cell_type": "code",
   "execution_count": 21,
   "metadata": {
    "scrolled": true
   },
   "outputs": [
    {
     "data": {
      "text/plain": [
       "{'1997',\n",
       " '1999',\n",
       " '2000',\n",
       " '2001',\n",
       " '2002',\n",
       " '2003',\n",
       " '2004',\n",
       " '2005',\n",
       " '2006',\n",
       " '2007',\n",
       " '2008',\n",
       " '2009',\n",
       " '2010',\n",
       " '2011',\n",
       " '2012',\n",
       " '2013',\n",
       " '2014',\n",
       " '2015',\n",
       " '2016',\n",
       " '2017',\n",
       " '2018',\n",
       " '2019',\n",
       " '2020',\n",
       " '2021'}"
      ]
     },
     "execution_count": 21,
     "metadata": {},
     "output_type": "execute_result"
    }
   ],
   "source": [
    "set(data[data['year'] != 'nan']['year'])"
   ]
  },
  {
   "cell_type": "code",
   "execution_count": 22,
   "metadata": {
    "scrolled": true
   },
   "outputs": [
    {
     "name": "stdout",
     "output_type": "stream",
     "text": [
      "0 2000\n",
      "scan vocabs ... \n",
      "num vocabs = 436\n",
      "done = 10\n",
      "1 2005\n",
      "scan vocabs ... \n",
      "num vocabs = 1247\n",
      "done = 10\n",
      "2 2010\n",
      "scan vocabs ... \n",
      "num vocabs = 1752\n",
      "done = 10 Early stopped.\n",
      "3 2015\n",
      "scan vocabs ... \n",
      "num vocabs = 1962\n",
      "done = 9 Early stopped.\n",
      "4 2025\n",
      "scan vocabs ... \n",
      "num vocabs = 2138\n",
      "done = 10 Early stopped.\n",
      "5 2025\n",
      "scan vocabs ... \n",
      "num vocabs = 0\n"
     ]
    },
    {
     "ename": "ValueError",
     "evalue": "('The graph should consist of at least two nodes\\n', 'The node size of inserted graph is 0')",
     "output_type": "error",
     "traceback": [
      "\u001b[0;31m---------------------------------------------------------------------------\u001b[0m",
      "\u001b[0;31mValueError\u001b[0m                                Traceback (most recent call last)",
      "\u001b[0;32m<ipython-input-22-c89878424529>\u001b[0m in \u001b[0;36m<module>\u001b[0;34m\u001b[0m\n\u001b[1;32m     11\u001b[0m     \u001b[0mtarget_corpus\u001b[0m \u001b[0;34m=\u001b[0m \u001b[0msum\u001b[0m\u001b[0;34m(\u001b[0m\u001b[0mlist\u001b[0m\u001b[0;34m(\u001b[0m\u001b[0mtarget_data\u001b[0m\u001b[0;34m[\u001b[0m\u001b[0;34m'lylics'\u001b[0m\u001b[0;34m]\u001b[0m\u001b[0;34m[\u001b[0m\u001b[0mtarget_data\u001b[0m\u001b[0;34m[\u001b[0m\u001b[0;34m'lylics'\u001b[0m\u001b[0;34m]\u001b[0m\u001b[0;34m.\u001b[0m\u001b[0mnotna\u001b[0m\u001b[0;34m(\u001b[0m\u001b[0;34m)\u001b[0m\u001b[0;34m]\u001b[0m\u001b[0;34m.\u001b[0m\u001b[0mmap\u001b[0m\u001b[0;34m(\u001b[0m\u001b[0;32mlambda\u001b[0m \u001b[0mx\u001b[0m \u001b[0;34m:\u001b[0m \u001b[0mx\u001b[0m\u001b[0;34m.\u001b[0m\u001b[0msplit\u001b[0m\u001b[0;34m(\u001b[0m\u001b[0;34m\"\\n\"\u001b[0m\u001b[0;34m)\u001b[0m\u001b[0;34m)\u001b[0m\u001b[0;34m)\u001b[0m\u001b[0;34m,\u001b[0m \u001b[0;34m[\u001b[0m\u001b[0;34m]\u001b[0m\u001b[0;34m)\u001b[0m\u001b[0;34m\u001b[0m\u001b[0;34m\u001b[0m\u001b[0m\n\u001b[1;32m     12\u001b[0m \u001b[0;34m\u001b[0m\u001b[0m\n\u001b[0;32m---> 13\u001b[0;31m     \u001b[0mtarget_rank_freq\u001b[0m \u001b[0;34m=\u001b[0m \u001b[0mmake_keyword\u001b[0m\u001b[0;34m(\u001b[0m\u001b[0mset\u001b[0m\u001b[0;34m(\u001b[0m\u001b[0mtarget_corpus\u001b[0m\u001b[0;34m)\u001b[0m\u001b[0;34m,\u001b[0m \u001b[0mmin_count\u001b[0m\u001b[0;34m=\u001b[0m\u001b[0;36m1\u001b[0m\u001b[0;34m)\u001b[0m\u001b[0;34m\u001b[0m\u001b[0;34m\u001b[0m\u001b[0m\n\u001b[0m\u001b[1;32m     14\u001b[0m \u001b[0;31m#     _ = show_wordcloud(target_rank_freq)\u001b[0m\u001b[0;34m\u001b[0m\u001b[0;34m\u001b[0m\u001b[0;34m\u001b[0m\u001b[0m\n\u001b[1;32m     15\u001b[0m \u001b[0;34m\u001b[0m\u001b[0m\n",
      "\u001b[0;32m<ipython-input-17-c03445811bed>\u001b[0m in \u001b[0;36mmake_keyword\u001b[0;34m(corpus, unique_mode, min_count)\u001b[0m\n\u001b[1;32m     15\u001b[0m     \u001b[0mmax_iter\u001b[0m \u001b[0;34m=\u001b[0m \u001b[0;36m10\u001b[0m\u001b[0;34m\u001b[0m\u001b[0;34m\u001b[0m\u001b[0m\n\u001b[1;32m     16\u001b[0m \u001b[0;34m\u001b[0m\u001b[0m\n\u001b[0;32m---> 17\u001b[0;31m     \u001b[0mkeywords\u001b[0m\u001b[0;34m,\u001b[0m \u001b[0mrank\u001b[0m\u001b[0;34m,\u001b[0m \u001b[0mgraph\u001b[0m \u001b[0;34m=\u001b[0m \u001b[0mwordrank_extractor\u001b[0m\u001b[0;34m.\u001b[0m\u001b[0mextract\u001b[0m\u001b[0;34m(\u001b[0m\u001b[0mtexts\u001b[0m\u001b[0;34m,\u001b[0m \u001b[0mbeta\u001b[0m\u001b[0;34m,\u001b[0m \u001b[0mmax_iter\u001b[0m\u001b[0;34m)\u001b[0m\u001b[0;34m\u001b[0m\u001b[0;34m\u001b[0m\u001b[0m\n\u001b[0m\u001b[1;32m     18\u001b[0m \u001b[0;34m\u001b[0m\u001b[0m\n\u001b[1;32m     19\u001b[0m     \u001b[0mrank_freq\u001b[0m \u001b[0;34m=\u001b[0m \u001b[0;34m{\u001b[0m\u001b[0;34m}\u001b[0m\u001b[0;34m\u001b[0m\u001b[0;34m\u001b[0m\u001b[0m\n",
      "\u001b[0;32m~/anaconda2/envs/py36/lib/python3.6/site-packages/krwordrank/word/_word.py\u001b[0m in \u001b[0;36mextract\u001b[0;34m(self, docs, beta, max_iter, num_keywords, num_rset, vocabulary, bias, rset)\u001b[0m\n\u001b[1;32m    209\u001b[0m         \"\"\"\n\u001b[1;32m    210\u001b[0m \u001b[0;34m\u001b[0m\u001b[0m\n\u001b[0;32m--> 211\u001b[0;31m         \u001b[0mrank\u001b[0m\u001b[0;34m,\u001b[0m \u001b[0mgraph\u001b[0m \u001b[0;34m=\u001b[0m \u001b[0mself\u001b[0m\u001b[0;34m.\u001b[0m\u001b[0mtrain\u001b[0m\u001b[0;34m(\u001b[0m\u001b[0mdocs\u001b[0m\u001b[0;34m,\u001b[0m \u001b[0mbeta\u001b[0m\u001b[0;34m,\u001b[0m \u001b[0mmax_iter\u001b[0m\u001b[0;34m,\u001b[0m \u001b[0mvocabulary\u001b[0m\u001b[0;34m,\u001b[0m \u001b[0mbias\u001b[0m\u001b[0;34m)\u001b[0m\u001b[0;34m\u001b[0m\u001b[0;34m\u001b[0m\u001b[0m\n\u001b[0m\u001b[1;32m    212\u001b[0m \u001b[0;34m\u001b[0m\u001b[0m\n\u001b[1;32m    213\u001b[0m         \u001b[0mlset\u001b[0m \u001b[0;34m=\u001b[0m \u001b[0;34m{\u001b[0m\u001b[0mself\u001b[0m\u001b[0;34m.\u001b[0m\u001b[0mint2token\u001b[0m\u001b[0;34m(\u001b[0m\u001b[0midx\u001b[0m\u001b[0;34m)\u001b[0m\u001b[0;34m[\u001b[0m\u001b[0;36m0\u001b[0m\u001b[0;34m]\u001b[0m\u001b[0;34m:\u001b[0m\u001b[0mr\u001b[0m \u001b[0;32mfor\u001b[0m \u001b[0midx\u001b[0m\u001b[0;34m,\u001b[0m \u001b[0mr\u001b[0m \u001b[0;32min\u001b[0m \u001b[0mrank\u001b[0m\u001b[0;34m.\u001b[0m\u001b[0mitems\u001b[0m\u001b[0;34m(\u001b[0m\u001b[0;34m)\u001b[0m \u001b[0;32mif\u001b[0m \u001b[0mself\u001b[0m\u001b[0;34m.\u001b[0m\u001b[0mint2token\u001b[0m\u001b[0;34m(\u001b[0m\u001b[0midx\u001b[0m\u001b[0;34m)\u001b[0m\u001b[0;34m[\u001b[0m\u001b[0;36m1\u001b[0m\u001b[0;34m]\u001b[0m \u001b[0;34m==\u001b[0m \u001b[0;34m'L'\u001b[0m\u001b[0;34m}\u001b[0m\u001b[0;34m\u001b[0m\u001b[0;34m\u001b[0m\u001b[0m\n",
      "\u001b[0;32m~/anaconda2/envs/py36/lib/python3.6/site-packages/krwordrank/word/_word.py\u001b[0m in \u001b[0;36mtrain\u001b[0;34m(self, docs, beta, max_iter, vocabulary, bias)\u001b[0m\n\u001b[1;32m    327\u001b[0m                     \u001b[0msum_weight\u001b[0m\u001b[0;34m=\u001b[0m\u001b[0mself\u001b[0m\u001b[0;34m.\u001b[0m\u001b[0msum_weight\u001b[0m\u001b[0;34m,\u001b[0m\u001b[0;34m\u001b[0m\u001b[0;34m\u001b[0m\u001b[0m\n\u001b[1;32m    328\u001b[0m                     \u001b[0mnumber_of_nodes\u001b[0m\u001b[0;34m=\u001b[0m\u001b[0mlen\u001b[0m\u001b[0;34m(\u001b[0m\u001b[0mself\u001b[0m\u001b[0;34m.\u001b[0m\u001b[0mvocabulary\u001b[0m\u001b[0;34m)\u001b[0m\u001b[0;34m,\u001b[0m\u001b[0;34m\u001b[0m\u001b[0;34m\u001b[0m\u001b[0m\n\u001b[0;32m--> 329\u001b[0;31m                     \u001b[0mverbose\u001b[0m\u001b[0;34m=\u001b[0m\u001b[0mself\u001b[0m\u001b[0;34m.\u001b[0m\u001b[0mverbose\u001b[0m\u001b[0;34m\u001b[0m\u001b[0;34m\u001b[0m\u001b[0m\n\u001b[0m\u001b[1;32m    330\u001b[0m                     )\n\u001b[1;32m    331\u001b[0m \u001b[0;34m\u001b[0m\u001b[0m\n",
      "\u001b[0;32m~/anaconda2/envs/py36/lib/python3.6/site-packages/krwordrank/graph/_rank.py\u001b[0m in \u001b[0;36mhits\u001b[0;34m(graph, beta, max_iter, bias, verbose, sum_weight, number_of_nodes, converge)\u001b[0m\n\u001b[1;32m     38\u001b[0m         raise ValueError(\n\u001b[1;32m     39\u001b[0m             \u001b[0;34m'The graph should consist of at least two nodes\\n'\u001b[0m\u001b[0;34m,\u001b[0m\u001b[0;34m\u001b[0m\u001b[0;34m\u001b[0m\u001b[0m\n\u001b[0;32m---> 40\u001b[0;31m             \u001b[0;34m'The node size of inserted graph is %d'\u001b[0m \u001b[0;34m%\u001b[0m \u001b[0mnumber_of_nodes\u001b[0m\u001b[0;34m\u001b[0m\u001b[0;34m\u001b[0m\u001b[0m\n\u001b[0m\u001b[1;32m     41\u001b[0m         )\n\u001b[1;32m     42\u001b[0m \u001b[0;34m\u001b[0m\u001b[0m\n",
      "\u001b[0;31mValueError\u001b[0m: ('The graph should consist of at least two nodes\\n', 'The node size of inserted graph is 0')"
     ]
    }
   ],
   "source": [
    "data['year'] = data['date'].map(lambda x : str(x).split(\"-\")[0])\n",
    "data = data[data['year'] != 'nan']\n",
    "data['year'] = data['year'].map(int)\n",
    "\n",
    "keyword_by_year = {}\n",
    "flag = ['0','2000', '2005', '2010', '2015', '2025', '2025']\n",
    "\n",
    "for i,target in enumerate(flag[1:]):\n",
    "    print(i, target)\n",
    "    target_data = data[(data['year'] <= int(target)) & (data['year'] > int(flag[i]))]\n",
    "    target_corpus = sum(list(target_data['lylics'][target_data['lylics'].notna()].map(lambda x : x.split(\"\\n\"))), [])\n",
    "    \n",
    "    target_rank_freq = make_keyword(set(target_corpus), min_count=1)\n",
    "#     _ = show_wordcloud(target_rank_freq)\n",
    "    \n",
    "    keyword_by_year[target] = target_rank_freq\n",
    "#     _ = show_wordcloud(target_rank_freq)\n",
    "#   \n",
    "#     keyword_by_year[target] = show_wordcloud_by_text(set(target_corpus)).words_"
   ]
  },
  {
   "cell_type": "code",
   "execution_count": 23,
   "metadata": {},
   "outputs": [],
   "source": [
    "result = dict(zip(keyword_by_year.keys(), [list(i.keys())[:15] for i in keyword_by_year.values()]))\n",
    "# del result['nan']"
   ]
  },
  {
   "cell_type": "code",
   "execution_count": 24,
   "metadata": {
    "scrolled": true
   },
   "outputs": [
    {
     "data": {
      "text/plain": [
       "{'2000': ['우리',\n",
       "  '주의',\n",
       "  '주님',\n",
       "  '하나님',\n",
       "  '영광',\n",
       "  '하소서',\n",
       "  '하늘',\n",
       "  '나의',\n",
       "  '예수',\n",
       "  '사랑',\n",
       "  '일어나',\n",
       "  '모든',\n",
       "  '나라',\n",
       "  '너의',\n",
       "  '주를'],\n",
       " '2005': ['주님',\n",
       "  '주의',\n",
       "  '나의',\n",
       "  '예수',\n",
       "  '사랑',\n",
       "  '모든',\n",
       "  '주를',\n",
       "  '찬양',\n",
       "  '우리',\n",
       "  '할렐루야',\n",
       "  '영광',\n",
       "  '이름',\n",
       "  '주께',\n",
       "  '하나님',\n",
       "  '영원히'],\n",
       " '2010': ['주님',\n",
       "  '주의',\n",
       "  '나의',\n",
       "  '예수',\n",
       "  '사랑',\n",
       "  '찬양',\n",
       "  '모든',\n",
       "  '우리',\n",
       "  '주를',\n",
       "  '나를',\n",
       "  '영광',\n",
       "  '하나님',\n",
       "  '영원',\n",
       "  '주께',\n",
       "  '이름'],\n",
       " '2015': ['주의',\n",
       "  '주님',\n",
       "  'the',\n",
       "  '사랑',\n",
       "  '찬양',\n",
       "  '나의',\n",
       "  '예수',\n",
       "  'You',\n",
       "  '나를',\n",
       "  '우리',\n",
       "  '주를',\n",
       "  '영원',\n",
       "  '모든',\n",
       "  '이름',\n",
       "  '할렐루야'],\n",
       " '2025': ['주의',\n",
       "  '주님',\n",
       "  '사랑',\n",
       "  '나의',\n",
       "  '우리',\n",
       "  '주를',\n",
       "  '찬양',\n",
       "  'the',\n",
       "  '모든',\n",
       "  '예수',\n",
       "  '나를',\n",
       "  '하나님',\n",
       "  '영원',\n",
       "  '함께',\n",
       "  '주께']}"
      ]
     },
     "execution_count": 24,
     "metadata": {},
     "output_type": "execute_result"
    }
   ],
   "source": [
    "result"
   ]
  },
  {
   "cell_type": "code",
   "execution_count": 135,
   "metadata": {},
   "outputs": [],
   "source": [
    "\n",
    "dfdf = pd.DataFrame([[k for k,v in wc.words_.items()][:15]] + [i[1] for i in sorted(result.items(), key= lambda x: int(x[0]))])\n"
   ]
  },
  {
   "cell_type": "code",
   "execution_count": 136,
   "metadata": {},
   "outputs": [
    {
     "data": {
      "text/html": [
       "<div>\n",
       "<style scoped>\n",
       "    .dataframe tbody tr th:only-of-type {\n",
       "        vertical-align: middle;\n",
       "    }\n",
       "\n",
       "    .dataframe tbody tr th {\n",
       "        vertical-align: top;\n",
       "    }\n",
       "\n",
       "    .dataframe thead th {\n",
       "        text-align: right;\n",
       "    }\n",
       "</style>\n",
       "<table border=\"1\" class=\"dataframe\">\n",
       "  <thead>\n",
       "    <tr style=\"text-align: right;\">\n",
       "      <th></th>\n",
       "      <th>전체</th>\n",
       "      <th>2000</th>\n",
       "      <th>2005</th>\n",
       "      <th>2010</th>\n",
       "      <th>2015</th>\n",
       "      <th>2025</th>\n",
       "    </tr>\n",
       "  </thead>\n",
       "  <tbody>\n",
       "    <tr>\n",
       "      <th>1등</th>\n",
       "      <td>주의</td>\n",
       "      <td>우리</td>\n",
       "      <td>주님</td>\n",
       "      <td>주님</td>\n",
       "      <td>주의</td>\n",
       "      <td>주의</td>\n",
       "    </tr>\n",
       "    <tr>\n",
       "      <th>2등</th>\n",
       "      <td>주님</td>\n",
       "      <td>주의</td>\n",
       "      <td>주의</td>\n",
       "      <td>주의</td>\n",
       "      <td>주님</td>\n",
       "      <td>주님</td>\n",
       "    </tr>\n",
       "    <tr>\n",
       "      <th>3등</th>\n",
       "      <td>사랑</td>\n",
       "      <td>주님</td>\n",
       "      <td>나의</td>\n",
       "      <td>나의</td>\n",
       "      <td>the</td>\n",
       "      <td>사랑</td>\n",
       "    </tr>\n",
       "    <tr>\n",
       "      <th>4등</th>\n",
       "      <td>나의</td>\n",
       "      <td>하나님</td>\n",
       "      <td>예수</td>\n",
       "      <td>예수</td>\n",
       "      <td>사랑</td>\n",
       "      <td>나의</td>\n",
       "    </tr>\n",
       "    <tr>\n",
       "      <th>5등</th>\n",
       "      <td>우리</td>\n",
       "      <td>영광</td>\n",
       "      <td>사랑</td>\n",
       "      <td>사랑</td>\n",
       "      <td>찬양</td>\n",
       "      <td>우리</td>\n",
       "    </tr>\n",
       "    <tr>\n",
       "      <th>6등</th>\n",
       "      <td>찬양</td>\n",
       "      <td>하소서</td>\n",
       "      <td>모든</td>\n",
       "      <td>찬양</td>\n",
       "      <td>나의</td>\n",
       "      <td>주를</td>\n",
       "    </tr>\n",
       "    <tr>\n",
       "      <th>7등</th>\n",
       "      <td>예수</td>\n",
       "      <td>하늘</td>\n",
       "      <td>주를</td>\n",
       "      <td>모든</td>\n",
       "      <td>예수</td>\n",
       "      <td>찬양</td>\n",
       "    </tr>\n",
       "    <tr>\n",
       "      <th>8등</th>\n",
       "      <td>모든</td>\n",
       "      <td>나의</td>\n",
       "      <td>찬양</td>\n",
       "      <td>우리</td>\n",
       "      <td>You</td>\n",
       "      <td>the</td>\n",
       "    </tr>\n",
       "    <tr>\n",
       "      <th>9등</th>\n",
       "      <td>주를</td>\n",
       "      <td>예수</td>\n",
       "      <td>우리</td>\n",
       "      <td>주를</td>\n",
       "      <td>나를</td>\n",
       "      <td>모든</td>\n",
       "    </tr>\n",
       "    <tr>\n",
       "      <th>10등</th>\n",
       "      <td>나를</td>\n",
       "      <td>사랑</td>\n",
       "      <td>할렐루야</td>\n",
       "      <td>나를</td>\n",
       "      <td>우리</td>\n",
       "      <td>예수</td>\n",
       "    </tr>\n",
       "    <tr>\n",
       "      <th>11등</th>\n",
       "      <td>the</td>\n",
       "      <td>일어나</td>\n",
       "      <td>영광</td>\n",
       "      <td>영광</td>\n",
       "      <td>주를</td>\n",
       "      <td>나를</td>\n",
       "    </tr>\n",
       "    <tr>\n",
       "      <th>12등</th>\n",
       "      <td>영광</td>\n",
       "      <td>모든</td>\n",
       "      <td>이름</td>\n",
       "      <td>하나님</td>\n",
       "      <td>영원</td>\n",
       "      <td>하나님</td>\n",
       "    </tr>\n",
       "    <tr>\n",
       "      <th>13등</th>\n",
       "      <td>하나님</td>\n",
       "      <td>나라</td>\n",
       "      <td>주께</td>\n",
       "      <td>영원</td>\n",
       "      <td>모든</td>\n",
       "      <td>영원</td>\n",
       "    </tr>\n",
       "    <tr>\n",
       "      <th>14등</th>\n",
       "      <td>영원</td>\n",
       "      <td>너의</td>\n",
       "      <td>하나님</td>\n",
       "      <td>주께</td>\n",
       "      <td>이름</td>\n",
       "      <td>함께</td>\n",
       "    </tr>\n",
       "    <tr>\n",
       "      <th>15등</th>\n",
       "      <td>주께</td>\n",
       "      <td>주를</td>\n",
       "      <td>영원히</td>\n",
       "      <td>이름</td>\n",
       "      <td>할렐루야</td>\n",
       "      <td>주께</td>\n",
       "    </tr>\n",
       "  </tbody>\n",
       "</table>\n",
       "</div>"
      ],
      "text/plain": [
       "      전체 2000  2005 2010  2015 2025\n",
       "1등    주의   우리    주님   주님    주의   주의\n",
       "2등    주님   주의    주의   주의    주님   주님\n",
       "3등    사랑   주님    나의   나의   the   사랑\n",
       "4등    나의  하나님    예수   예수    사랑   나의\n",
       "5등    우리   영광    사랑   사랑    찬양   우리\n",
       "6등    찬양  하소서    모든   찬양    나의   주를\n",
       "7등    예수   하늘    주를   모든    예수   찬양\n",
       "8등    모든   나의    찬양   우리   You  the\n",
       "9등    주를   예수    우리   주를    나를   모든\n",
       "10등   나를   사랑  할렐루야   나를    우리   예수\n",
       "11등  the  일어나    영광   영광    주를   나를\n",
       "12등   영광   모든    이름  하나님    영원  하나님\n",
       "13등  하나님   나라    주께   영원    모든   영원\n",
       "14등   영원   너의   하나님   주께    이름   함께\n",
       "15등   주께   주를   영원히   이름  할렐루야   주께"
      ]
     },
     "execution_count": 136,
     "metadata": {},
     "output_type": "execute_result"
    }
   ],
   "source": [
    "dfdf = dfdf.transpose()\n",
    "dfdf.rename(columns = dict( (k,v) for k,v in enumerate(['전체']+flag[1:])), index = dict([(i,str(i+1)+\"등\") for i in range(15)]))"
   ]
  },
  {
   "cell_type": "markdown",
   "metadata": {},
   "source": [
    "## 타이틀로 사부작\n",
    "\n",
    "-> 단순 워드 갯수"
   ]
  },
  {
   "cell_type": "code",
   "execution_count": 138,
   "metadata": {},
   "outputs": [
    {
     "data": {
      "text/html": [
       "<div>\n",
       "<style scoped>\n",
       "    .dataframe tbody tr th:only-of-type {\n",
       "        vertical-align: middle;\n",
       "    }\n",
       "\n",
       "    .dataframe tbody tr th {\n",
       "        vertical-align: top;\n",
       "    }\n",
       "\n",
       "    .dataframe thead th {\n",
       "        text-align: right;\n",
       "    }\n",
       "</style>\n",
       "<table border=\"1\" class=\"dataframe\">\n",
       "  <thead>\n",
       "    <tr style=\"text-align: right;\">\n",
       "      <th></th>\n",
       "      <th>index</th>\n",
       "      <th>title</th>\n",
       "      <th>artist</th>\n",
       "      <th>album</th>\n",
       "      <th>lylics</th>\n",
       "    </tr>\n",
       "  </thead>\n",
       "  <tbody>\n",
       "    <tr>\n",
       "      <th>0</th>\n",
       "      <td>0</td>\n",
       "      <td>온 땅의 주인 (Who Am I)</td>\n",
       "      <td>어노인팅</td>\n",
       "      <td>어노인팅 12집</td>\n",
       "      <td>온 땅의 주인 되신 주님이\\n내 이름 아시며 상한 맘 돌보네\\n어둠을 밝히시는 새벽...</td>\n",
       "    </tr>\n",
       "    <tr>\n",
       "      <th>1</th>\n",
       "      <td>1</td>\n",
       "      <td>나는 예배자입니다</td>\n",
       "      <td>어노인팅</td>\n",
       "      <td>어노인팅 예배캠프 2016</td>\n",
       "      <td>나는 하나님을 예배하는\\n예배자입니다\\n내가 서있는 곳 어디서나\\n하나님을 예배합니...</td>\n",
       "    </tr>\n",
       "    <tr>\n",
       "      <th>2</th>\n",
       "      <td>2</td>\n",
       "      <td>하늘에 닿아도 (시편73편)</td>\n",
       "      <td>어노인팅</td>\n",
       "      <td>어노인팅 예배캠프 2020</td>\n",
       "      <td>같은 길에서 다른 계절을 만나고\\n기쁨 슬픔 반복되는 모든 시간 속에서\\n주님을 바...</td>\n",
       "    </tr>\n",
       "    <tr>\n",
       "      <th>3</th>\n",
       "      <td>3</td>\n",
       "      <td>감사로 주님께 나가세</td>\n",
       "      <td>어노인팅</td>\n",
       "      <td>어노인팅 예배캠프 2020</td>\n",
       "      <td>감사로 주님께 나가세\\n모든 날의 주인이신\\n기쁨으로 주님께 나가세\\n모든 호흡의 ...</td>\n",
       "    </tr>\n",
       "    <tr>\n",
       "      <th>4</th>\n",
       "      <td>4</td>\n",
       "      <td>주께서 내 맘에 두신 기쁨은</td>\n",
       "      <td>어노인팅</td>\n",
       "      <td>어노인팅 예배캠프 2020</td>\n",
       "      <td>주께서 내 맘에 두신 기쁨은\\n이 세상 즐거움 비교할 수 없네\\n잠깐 있다 사라질 ...</td>\n",
       "    </tr>\n",
       "    <tr>\n",
       "      <th>5</th>\n",
       "      <td>5</td>\n",
       "      <td>나는 사마리아 여인에게 말을 건다</td>\n",
       "      <td>어노인팅</td>\n",
       "      <td>어노인팅 예배캠프 2020</td>\n",
       "      <td>내가 사마리아에 가는 이유는\\n그 곳에 울고 있었던 네가 있어서\\n햇볕이 따갑고 그...</td>\n",
       "    </tr>\n",
       "    <tr>\n",
       "      <th>6</th>\n",
       "      <td>6</td>\n",
       "      <td>예수 우리들의 밝은 빛</td>\n",
       "      <td>어노인팅</td>\n",
       "      <td>어노인팅 예배캠프 2016</td>\n",
       "      <td>예수 우리들의 밝은 빛\\n은혜와 긍휼을 베푸시는 주\\n의의 길을 따라가는\\n주의 자...</td>\n",
       "    </tr>\n",
       "    <tr>\n",
       "      <th>7</th>\n",
       "      <td>7</td>\n",
       "      <td>내 삶을 깨뜨립니다</td>\n",
       "      <td>어노인팅</td>\n",
       "      <td>어노인팅 예배캠프 2019</td>\n",
       "      <td>날 위해 십자가에서 깨뜨리신 사랑\\n오늘도 그 사랑 안에 나 거합니다\\n주님의 생명...</td>\n",
       "    </tr>\n",
       "    <tr>\n",
       "      <th>8</th>\n",
       "      <td>8</td>\n",
       "      <td>말씀이신 예수</td>\n",
       "      <td>어노인팅</td>\n",
       "      <td>어노인팅 예배캠프 2020</td>\n",
       "      <td>말씀이신 예수\\n진실하신 초대\\n사랑으로 그 진리로\\n주께 와서 듣고\\n주님께 배우...</td>\n",
       "    </tr>\n",
       "    <tr>\n",
       "      <th>9</th>\n",
       "      <td>9</td>\n",
       "      <td>주의 나라가 임할 때</td>\n",
       "      <td>어노인팅</td>\n",
       "      <td>어노인팅 예배캠프 2019</td>\n",
       "      <td>주의 나라가 임할 때 하나님 임재하실 때\\n예배가 회복되며 기적은 일어나네\\n전능하...</td>\n",
       "    </tr>\n",
       "  </tbody>\n",
       "</table>\n",
       "</div>"
      ],
      "text/plain": [
       "   index               title artist           album  \\\n",
       "0      0  온 땅의 주인 (Who Am I)   어노인팅        어노인팅 12집   \n",
       "1      1           나는 예배자입니다   어노인팅  어노인팅 예배캠프 2016   \n",
       "2      2     하늘에 닿아도 (시편73편)   어노인팅  어노인팅 예배캠프 2020   \n",
       "3      3         감사로 주님께 나가세   어노인팅  어노인팅 예배캠프 2020   \n",
       "4      4     주께서 내 맘에 두신 기쁨은   어노인팅  어노인팅 예배캠프 2020   \n",
       "5      5  나는 사마리아 여인에게 말을 건다   어노인팅  어노인팅 예배캠프 2020   \n",
       "6      6        예수 우리들의 밝은 빛   어노인팅  어노인팅 예배캠프 2016   \n",
       "7      7          내 삶을 깨뜨립니다   어노인팅  어노인팅 예배캠프 2019   \n",
       "8      8             말씀이신 예수   어노인팅  어노인팅 예배캠프 2020   \n",
       "9      9         주의 나라가 임할 때   어노인팅  어노인팅 예배캠프 2019   \n",
       "\n",
       "                                              lylics  \n",
       "0  온 땅의 주인 되신 주님이\\n내 이름 아시며 상한 맘 돌보네\\n어둠을 밝히시는 새벽...  \n",
       "1  나는 하나님을 예배하는\\n예배자입니다\\n내가 서있는 곳 어디서나\\n하나님을 예배합니...  \n",
       "2  같은 길에서 다른 계절을 만나고\\n기쁨 슬픔 반복되는 모든 시간 속에서\\n주님을 바...  \n",
       "3  감사로 주님께 나가세\\n모든 날의 주인이신\\n기쁨으로 주님께 나가세\\n모든 호흡의 ...  \n",
       "4  주께서 내 맘에 두신 기쁨은\\n이 세상 즐거움 비교할 수 없네\\n잠깐 있다 사라질 ...  \n",
       "5  내가 사마리아에 가는 이유는\\n그 곳에 울고 있었던 네가 있어서\\n햇볕이 따갑고 그...  \n",
       "6  예수 우리들의 밝은 빛\\n은혜와 긍휼을 베푸시는 주\\n의의 길을 따라가는\\n주의 자...  \n",
       "7  날 위해 십자가에서 깨뜨리신 사랑\\n오늘도 그 사랑 안에 나 거합니다\\n주님의 생명...  \n",
       "8  말씀이신 예수\\n진실하신 초대\\n사랑으로 그 진리로\\n주께 와서 듣고\\n주님께 배우...  \n",
       "9  주의 나라가 임할 때 하나님 임재하실 때\\n예배가 회복되며 기적은 일어나네\\n전능하...  "
      ]
     },
     "execution_count": 138,
     "metadata": {},
     "output_type": "execute_result"
    }
   ],
   "source": [
    "all_song_df.head(10)"
   ]
  },
  {
   "cell_type": "code",
   "execution_count": 141,
   "metadata": {},
   "outputs": [],
   "source": [
    "all_title = list(set(all_song_df['title']))"
   ]
  },
  {
   "cell_type": "code",
   "execution_count": 144,
   "metadata": {
    "scrolled": true
   },
   "outputs": [
    {
     "data": {
      "text/plain": [
       "0                                          전능하신 나의 주 하나님은\n",
       "1                                          주의 말씀 비추시는 빛따라\n",
       "2                              Hosea 11:8 • John 13:34-35\n",
       "3                                         광대하신 주님 (Inst.)\n",
       "4                                                빛으로 비추시네\n",
       "5                                          주를 경배 (CD-Mix)\n",
       "6                                       교회여 일어나라 (CD-Mix)\n",
       "7                                         할렐루야 (여호와의 영광을)\n",
       "8              오직 당신만 위해 (The Reimagined Ver.) (Feat. 범키)\n",
       "9                  See You At the Pole (우리는 학교를 위해 기도합니다)\n",
       "10                                 주를 기억합니다 (Bonus Track)\n",
       "11                                            그 맑고 환한 밤중에\n",
       "12                            주 보좌로부터 (The River Is Here)\n",
       "13                                                그 날이 오면\n",
       "14                                         이곳에서 Here, Now\n",
       "15                                       나를 향한 주의 사랑 (MR)\n",
       "16                                        예수 피를 힘입어 (오재성)\n",
       "17                                                주가 사셨듯이\n",
       "18                                      내 맘을 지키는 (Remain)\n",
       "19                                                   믿음으로\n",
       "20                                         내 안의 중심이 주를 찬양\n",
       "21                                              주를 위한 이곳에\n",
       "22                                      우리는 (Bonus Track)\n",
       "23                                         부흥이 있으리라 (박철순)\n",
       "24                                 예수는 왕 (He Is The King)\n",
       "25                                           주님 마음 내게 주소서\n",
       "26                    그 이름 여호와 (His Name Is Jehovah) (MR)\n",
       "27                                       내 삶에 수놓은 이름 (MR)\n",
       "28                                     주를 향한 나의 사랑을 (이민욱)\n",
       "29                                           보좌 위에 앉으신 주님\n",
       "                              ...                        \n",
       "1464                                            여호와께 감사하라\n",
       "1465                                         Welcome Song\n",
       "1466                                           고된 하루를 보내고\n",
       "1467                                                 오 예수\n",
       "1468                                      거룩하신 주 이름 찬양할 때\n",
       "1469                                       여호와의 영광을 (박철순)\n",
       "1470                                        영광 영광 주 임하실 때\n",
       "1471                                            주님을 찬양합니다\n",
       "1472                                          Set Me Free\n",
       "1473                                          완전한 사랑 보여주신\n",
       "1474                                         하나님 우리를 사랑하사\n",
       "1475                                            사랑의 노래 되리\n",
       "1476                                              높여 찬양하세\n",
       "1477                                          나의 예배를 받으소서\n",
       "1478                                                거룩한 곳\n",
       "1479                                       Interlude (시작)\n",
       "1480                                               오라 우리가\n",
       "1481                                          주님의 그 모든 것이\n",
       "1482                                       우리 찬양 향기되게 하소서\n",
       "1483                                            예수 세상의 중심\n",
       "1484                                             주가 주신 사랑\n",
       "1485                                        주의 임재 (Inst.)\n",
       "1486                                         덮으소서 (Inst.)\n",
       "1487                          Memory Within Heart (Intro)\n",
       "1488                                     그분은 주 예수 (Inst.)\n",
       "1489             세상 향한 발걸음들 (Let The Flame Burn Brighter)\n",
       "1490                                                   소원\n",
       "1491    거친 길 위를 걸어갈 때도 (Even When I Walk On Rough Road...\n",
       "1492                              Markers' prayer (Inst.)\n",
       "1493                                             주는 만왕의 왕\n",
       "Name: 0, Length: 1494, dtype: object"
      ]
     },
     "execution_count": 144,
     "metadata": {},
     "output_type": "execute_result"
    }
   ],
   "source": [
    "pd.DataFrame(all_title)[0]"
   ]
  },
  {
   "cell_type": "code",
   "execution_count": 145,
   "metadata": {},
   "outputs": [],
   "source": [
    "# refine\n",
    "all_title_refine = set()\n",
    "for i in all_title:\n",
    "\n",
    "    refine_i = i.split(\"(\")[0].strip()\n",
    "    all_title_refine.add(refine_i)\n",
    "\n",
    "#         all_title_refine.add(i)"
   ]
  },
  {
   "cell_type": "code",
   "execution_count": 146,
   "metadata": {},
   "outputs": [
    {
     "data": {
      "text/plain": [
       "1146"
      ]
     },
     "execution_count": 146,
     "metadata": {},
     "output_type": "execute_result"
    }
   ],
   "source": [
    "all_title_refine = list(all_title_refine)\n",
    "len(all_title_refine)"
   ]
  },
  {
   "cell_type": "code",
   "execution_count": 147,
   "metadata": {},
   "outputs": [
    {
     "data": {
      "text/plain": [
       "1146"
      ]
     },
     "execution_count": 147,
     "metadata": {},
     "output_type": "execute_result"
    }
   ],
   "source": [
    "len(all_title_refine)"
   ]
  },
  {
   "cell_type": "code",
   "execution_count": 149,
   "metadata": {},
   "outputs": [
    {
     "data": {
      "text/plain": [
       "1146"
      ]
     },
     "execution_count": 149,
     "metadata": {},
     "output_type": "execute_result"
    }
   ],
   "source": [
    "len(set(all_title_refine))"
   ]
  },
  {
   "cell_type": "code",
   "execution_count": 150,
   "metadata": {},
   "outputs": [
    {
     "data": {
      "image/png": "[encoded data removed]",
      "text/plain": [
       "<Figure size 1152x720 with 1 Axes>"
      ]
     },
     "metadata": {
      "needs_background": "light"
     },
     "output_type": "display_data"
    }
   ],
   "source": [
    "mask = np.array(Image.open(\"../image/ccm.jpeg\"))\n",
    "wordcloud = WordCloud(\n",
    "    font_path = '/Users/hyun-young/Library/Application Support/vrew/fonts/NotoSansCJKkr-Bold.otf',\n",
    "    width = 960,\n",
    "    height = 540,\n",
    "    background_color=\"white\",\n",
    "    mask=mask\n",
    ")\n",
    "\n",
    "wordcloud = wordcloud.generate_from_text(' '.join(all_title_refine))\n",
    "array = wordcloud.to_array()\n",
    "#     print(type(array)) # numpy.ndarray\n",
    "#     print(array.shape) # (800, 800, 3)\n",
    "\n",
    "fig = plt.figure(figsize=(16, 10))\n",
    "plt.imshow(array, interpolation=\"bilinear\")\n",
    "plt.axis(\"off\")\n",
    "plt.show()\n",
    "# plt.savefig(\"ccm_result.png\")\n",
    "plt.imsave('new_1.png',array)\n",
    "\n"
   ]
  },
  {
   "cell_type": "code",
   "execution_count": 152,
   "metadata": {},
   "outputs": [
    {
     "data": {
      "text/plain": [
       "{'주': 1.0,\n",
       " '주의': 0.7551020408163265,\n",
       " '내': 0.7040816326530612,\n",
       " '예수': 0.5306122448979592,\n",
       " '나의': 0.4897959183673469,\n",
       " '사랑': 0.3673469387755102,\n",
       " '그': 0.3469387755102041,\n",
       " '주님': 0.3469387755102041,\n",
       " '이름': 0.2653061224489796,\n",
       " '모든': 0.25510204081632654,\n",
       " '노래': 0.24489795918367346,\n",
       " '하나님': 0.23469387755102042,\n",
       " '우리': 0.22448979591836735,\n",
       " '주님의': 0.20408163265306123,\n",
       " '나': 0.19387755102040816,\n",
       " '이': 0.19387755102040816,\n",
       " '나는': 0.17346938775510204,\n",
       " '안에': 0.16326530612244897,\n",
       " '주를': 0.15306122448979592,\n",
       " '앞에': 0.15306122448979592,\n",
       " '영광': 0.1326530612244898,\n",
       " '하나님의': 0.1326530612244898,\n",
       " '온': 0.12244897959183673,\n",
       " '날': 0.12244897959183673,\n",
       " '때': 0.12244897959183673,\n",
       " '주는': 0.11224489795918367,\n",
       " '아버지': 0.11224489795918367,\n",
       " '주께': 0.11224489795918367,\n",
       " '찬양해': 0.11224489795918367,\n",
       " '길을': 0.11224489795918367,\n",
       " 'Love': 0.11224489795918367,\n",
       " '찬양': 0.10204081632653061,\n",
       " '함께': 0.10204081632653061,\n",
       " '왕': 0.10204081632653061,\n",
       " '할렐루야': 0.10204081632653061,\n",
       " '오직': 0.10204081632653061,\n",
       " '내게': 0.09183673469387756,\n",
       " '나라': 0.09183673469387756,\n",
       " '길': 0.09183673469387756,\n",
       " '오': 0.09183673469387756,\n",
       " '사랑이': 0.09183673469387756,\n",
       " 'Song': 0.09183673469387756,\n",
       " '나를': 0.09183673469387756,\n",
       " '향한': 0.09183673469387756,\n",
       " '엎드려': 0.08163265306122448,\n",
       " '여호와': 0.08163265306122448,\n",
       " '마음': 0.08163265306122448,\n",
       " '주님을': 0.08163265306122448,\n",
       " '계신': 0.08163265306122448,\n",
       " '하나님은': 0.07142857142857142,\n",
       " '기뻐하며': 0.07142857142857142,\n",
       " '왕께': 0.07142857142857142,\n",
       " '영광이': 0.07142857142857142,\n",
       " '삶의': 0.07142857142857142,\n",
       " '시편': 0.07142857142857142,\n",
       " '영광의': 0.07142857142857142,\n",
       " '큰': 0.07142857142857142,\n",
       " '삶': 0.07142857142857142,\n",
       " '거룩한': 0.07142857142857142,\n",
       " '위에': 0.07142857142857142,\n",
       " '주와': 0.07142857142857142,\n",
       " '예수의': 0.07142857142857142,\n",
       " '한': 0.07142857142857142,\n",
       " '난': 0.07142857142857142,\n",
       " '사람': 0.07142857142857142,\n",
       " '곳에': 0.07142857142857142,\n",
       " '내가': 0.07142857142857142,\n",
       " '은혜': 0.07142857142857142,\n",
       " '주만': 0.07142857142857142,\n",
       " '있는': 0.07142857142857142,\n",
       " 'God': 0.07142857142857142,\n",
       " '반석': 0.061224489795918366,\n",
       " '새': 0.061224489795918366,\n",
       " '우리를': 0.061224489795918366,\n",
       " '없네': 0.061224489795918366,\n",
       " '크신': 0.061224489795918366,\n",
       " '하시네': 0.061224489795918366,\n",
       " '다시': 0.061224489795918366,\n",
       " '주님께': 0.061224489795918366,\n",
       " '높은': 0.061224489795918366,\n",
       " '기도': 0.061224489795918366,\n",
       " '분': 0.061224489795918366,\n",
       " '거룩하신': 0.061224489795918366,\n",
       " '맘': 0.061224489795918366,\n",
       " '우리는': 0.061224489795918366,\n",
       " '되신 주': 0.061224489795918366,\n",
       " '거룩 거룩': 0.061224489795918366,\n",
       " '말씀': 0.05102040816326531,\n",
       " '땅에': 0.05102040816326531,\n",
       " '빛으로': 0.05102040816326531,\n",
       " '주신': 0.05102040816326531,\n",
       " '믿음으로': 0.05102040816326531,\n",
       " '주께서': 0.05102040816326531,\n",
       " 'Life': 0.05102040816326531,\n",
       " '보좌': 0.05102040816326531,\n",
       " '어린양': 0.05102040816326531,\n",
       " '주님은': 0.05102040816326531,\n",
       " '하소서': 0.05102040816326531,\n",
       " '같은': 0.05102040816326531,\n",
       " '세상': 0.05102040816326531,\n",
       " '밝은': 0.05102040816326531,\n",
       " 'Heart': 0.05102040816326531,\n",
       " '사랑의': 0.05102040816326531,\n",
       " '임재': 0.05102040816326531,\n",
       " '십자가': 0.05102040816326531,\n",
       " '생명의': 0.05102040816326531,\n",
       " '빛': 0.05102040816326531,\n",
       " '자': 0.05102040816326531,\n",
       " '안에서': 0.05102040816326531,\n",
       " '곳': 0.05102040816326531,\n",
       " '오신': 0.05102040816326531,\n",
       " '수 없네': 0.05102040816326531,\n",
       " '성령이여': 0.04081632653061224,\n",
       " '믿음': 0.04081632653061224,\n",
       " '모습': 0.04081632653061224,\n",
       " '주님만': 0.04081632653061224,\n",
       " '메들리': 0.04081632653061224,\n",
       " '바다': 0.04081632653061224,\n",
       " '영혼': 0.04081632653061224,\n",
       " '사랑으로': 0.04081632653061224,\n",
       " 'Lord': 0.04081632653061224,\n",
       " '주가': 0.04081632653061224,\n",
       " '가장': 0.04081632653061224,\n",
       " '새롭게': 0.04081632653061224,\n",
       " '주님이': 0.04081632653061224,\n",
       " '우리가': 0.04081632653061224,\n",
       " '우린': 0.04081632653061224,\n",
       " '되시네': 0.04081632653061224,\n",
       " '보혈': 0.04081632653061224,\n",
       " '그는': 0.04081632653061224,\n",
       " '위해': 0.04081632653061224,\n",
       " '모두': 0.04081632653061224,\n",
       " '찬양의': 0.04081632653061224,\n",
       " '사랑을': 0.04081632653061224,\n",
       " 'Faith': 0.04081632653061224,\n",
       " '구주': 0.04081632653061224,\n",
       " '받으소서': 0.04081632653061224,\n",
       " '기뻐해': 0.04081632653061224,\n",
       " '당신을': 0.04081632653061224,\n",
       " '곳에서': 0.04081632653061224,\n",
       " '예수는': 0.04081632653061224,\n",
       " '삶을': 0.04081632653061224,\n",
       " 'Jesus': 0.04081632653061224,\n",
       " '매일': 0.04081632653061224,\n",
       " '메마른': 0.04081632653061224,\n",
       " '부르신': 0.04081632653061224,\n",
       " '놀라운': 0.04081632653061224,\n",
       " '소망': 0.04081632653061224,\n",
       " '그가': 0.04081632653061224,\n",
       " '하늘에': 0.04081632653061224,\n",
       " '그의': 0.04081632653061224,\n",
       " 'Name': 0.04081632653061224,\n",
       " '구원의': 0.04081632653061224,\n",
       " '아름다우신': 0.04081632653061224,\n",
       " '해': 0.04081632653061224,\n",
       " '놀라우신': 0.04081632653061224,\n",
       " '영원한': 0.04081632653061224,\n",
       " '가는': 0.04081632653061224,\n",
       " '것': 0.04081632653061224,\n",
       " '다': 0.04081632653061224,\n",
       " '날 위해': 0.04081632653061224,\n",
       " '어린 양': 0.04081632653061224,\n",
       " '전능하신': 0.030612244897959183,\n",
       " '없는': 0.030612244897959183,\n",
       " '중에': 0.030612244897959183,\n",
       " '찬양하리': 0.030612244897959183,\n",
       " '기다립니다': 0.030612244897959183,\n",
       " '예배': 0.030612244897959183,\n",
       " '세대': 0.030612244897959183,\n",
       " '더': 0.030612244897959183,\n",
       " '물이': 0.030612244897959183,\n",
       " '오셨네': 0.030612244897959183,\n",
       " 'Thank': 0.030612244897959183,\n",
       " '귀한': 0.030612244897959183,\n",
       " '다스리네': 0.030612244897959183,\n",
       " '땅': 0.030612244897959183,\n",
       " '친구': 0.030612244897959183,\n",
       " '고백': 0.030612244897959183,\n",
       " 'Light': 0.030612244897959183,\n",
       " '더욱': 0.030612244897959183,\n",
       " '아바': 0.030612244897959183,\n",
       " '기도해': 0.030612244897959183,\n",
       " '않네': 0.030612244897959183,\n",
       " '세상의': 0.030612244897959183,\n",
       " 'Intro': 0.030612244897959183,\n",
       " '아름다운': 0.030612244897959183,\n",
       " 'Day': 0.030612244897959183,\n",
       " '되리': 0.030612244897959183,\n",
       " '가득해': 0.030612244897959183,\n",
       " '경배하리': 0.030612244897959183,\n",
       " '호산나': 0.030612244897959183,\n",
       " '자리에서': 0.030612244897959183,\n",
       " 'Benediction': 0.030612244897959183,\n",
       " '축도': 0.030612244897959183,\n",
       " '드리네': 0.030612244897959183,\n",
       " '집에': 0.030612244897959183,\n",
       " '이름이': 0.030612244897959183,\n",
       " '승리의': 0.030612244897959183,\n",
       " '발': 0.030612244897959183,\n",
       " '오셔서': 0.030612244897959183}"
      ]
     },
     "execution_count": 152,
     "metadata": {},
     "output_type": "execute_result"
    }
   ],
   "source": [
    "wordcloud.words_"
   ]
  },
  {
   "cell_type": "code",
   "execution_count": 406,
   "metadata": {},
   "outputs": [
    {
     "data": {
      "text/plain": [
       "['주', '주의', '내', '예수', '나의', '사랑', '그', '주님', '이름', '모든']"
      ]
     },
     "execution_count": 406,
     "metadata": {},
     "output_type": "execute_result"
    }
   ],
   "source": [
    "[k for k,v in wordcloud.words_.items()][:10]"
   ]
  },
  {
   "cell_type": "markdown",
   "metadata": {},
   "source": [
    "# 요약"
   ]
  },
  {
   "cell_type": "code",
   "execution_count": 22,
   "metadata": {},
   "outputs": [],
   "source": [
    "su = Pororo(task='summarization', lang='ko')"
   ]
  },
  {
   "cell_type": "code",
   "execution_count": 24,
   "metadata": {},
   "outputs": [
    {
     "data": {
      "text/html": [
       "<div>\n",
       "<style scoped>\n",
       "    .dataframe tbody tr th:only-of-type {\n",
       "        vertical-align: middle;\n",
       "    }\n",
       "\n",
       "    .dataframe tbody tr th {\n",
       "        vertical-align: top;\n",
       "    }\n",
       "\n",
       "    .dataframe thead th {\n",
       "        text-align: right;\n",
       "    }\n",
       "</style>\n",
       "<table border=\"1\" class=\"dataframe\">\n",
       "  <thead>\n",
       "    <tr style=\"text-align: right;\">\n",
       "      <th></th>\n",
       "      <th>index</th>\n",
       "      <th>title</th>\n",
       "      <th>artist_x</th>\n",
       "      <th>album</th>\n",
       "      <th>lylics</th>\n",
       "      <th>category</th>\n",
       "      <th>artist_y</th>\n",
       "      <th>title_song</th>\n",
       "      <th>date</th>\n",
       "      <th>nb_songs</th>\n",
       "      <th>hearts</th>\n",
       "    </tr>\n",
       "  </thead>\n",
       "  <tbody>\n",
       "    <tr>\n",
       "      <th>0</th>\n",
       "      <td>0.0</td>\n",
       "      <td>온 땅의 주인 (Who Am I)</td>\n",
       "      <td>어노인팅</td>\n",
       "      <td>어노인팅 12집</td>\n",
       "      <td>온 땅의 주인 되신 주님이\\n내 이름 아시며 상한 맘 돌보네\\n어둠을 밝히시는 새벽...</td>\n",
       "      <td>정규</td>\n",
       "      <td>어노인팅</td>\n",
       "      <td>나에게도 말씀하소서</td>\n",
       "      <td>2017-02-16</td>\n",
       "      <td>15곡</td>\n",
       "      <td>2,526</td>\n",
       "    </tr>\n",
       "    <tr>\n",
       "      <th>1</th>\n",
       "      <td>25.0</td>\n",
       "      <td>매일 매일</td>\n",
       "      <td>어노인팅</td>\n",
       "      <td>어노인팅 12집</td>\n",
       "      <td>매일 매일\\n반복되는 갈등 속에 하루하루\\n선택이란 갈림길에 치열하게\\n살아가는 우...</td>\n",
       "      <td>정규</td>\n",
       "      <td>어노인팅</td>\n",
       "      <td>나에게도 말씀하소서</td>\n",
       "      <td>2017-02-16</td>\n",
       "      <td>15곡</td>\n",
       "      <td>2,526</td>\n",
       "    </tr>\n",
       "    <tr>\n",
       "      <th>2</th>\n",
       "      <td>81.0</td>\n",
       "      <td>주 사랑 앞에 엎드려</td>\n",
       "      <td>어노인팅</td>\n",
       "      <td>어노인팅 12집</td>\n",
       "      <td>주 사랑 앞에 엎드려\\n그 인자하심 경배해\\n두렵고 친밀한 주님\\n내 영혼 떨며 기...</td>\n",
       "      <td>정규</td>\n",
       "      <td>어노인팅</td>\n",
       "      <td>나에게도 말씀하소서</td>\n",
       "      <td>2017-02-16</td>\n",
       "      <td>15곡</td>\n",
       "      <td>2,526</td>\n",
       "    </tr>\n",
       "    <tr>\n",
       "      <th>3</th>\n",
       "      <td>103.0</td>\n",
       "      <td>나에게도 말씀하소서</td>\n",
       "      <td>어노인팅</td>\n",
       "      <td>어노인팅 12집</td>\n",
       "      <td>낯설고 고된 삶 내 마음 들추는\\n덧없는 상실 속에서\\n외롭고 거친 삶 내 마음 떨...</td>\n",
       "      <td>정규</td>\n",
       "      <td>어노인팅</td>\n",
       "      <td>나에게도 말씀하소서</td>\n",
       "      <td>2017-02-16</td>\n",
       "      <td>15곡</td>\n",
       "      <td>2,526</td>\n",
       "    </tr>\n",
       "    <tr>\n",
       "      <th>4</th>\n",
       "      <td>112.0</td>\n",
       "      <td>주와 마주할 그 때</td>\n",
       "      <td>어노인팅</td>\n",
       "      <td>어노인팅 12집</td>\n",
       "      <td>영원한 시간을 빚으시고\\n영원한 생명을 놓으신 주\\n한낱 숨결 같은 세월을 딛고\\n...</td>\n",
       "      <td>정규</td>\n",
       "      <td>어노인팅</td>\n",
       "      <td>나에게도 말씀하소서</td>\n",
       "      <td>2017-02-16</td>\n",
       "      <td>15곡</td>\n",
       "      <td>2,526</td>\n",
       "    </tr>\n",
       "  </tbody>\n",
       "</table>\n",
       "</div>"
      ],
      "text/plain": [
       "   index               title artist_x     album  \\\n",
       "0    0.0  온 땅의 주인 (Who Am I)     어노인팅  어노인팅 12집   \n",
       "1   25.0               매일 매일     어노인팅  어노인팅 12집   \n",
       "2   81.0         주 사랑 앞에 엎드려     어노인팅  어노인팅 12집   \n",
       "3  103.0          나에게도 말씀하소서     어노인팅  어노인팅 12집   \n",
       "4  112.0          주와 마주할 그 때     어노인팅  어노인팅 12집   \n",
       "\n",
       "                                              lylics category artist_y  \\\n",
       "0  온 땅의 주인 되신 주님이\\n내 이름 아시며 상한 맘 돌보네\\n어둠을 밝히시는 새벽...       정규     어노인팅   \n",
       "1  매일 매일\\n반복되는 갈등 속에 하루하루\\n선택이란 갈림길에 치열하게\\n살아가는 우...       정규     어노인팅   \n",
       "2  주 사랑 앞에 엎드려\\n그 인자하심 경배해\\n두렵고 친밀한 주님\\n내 영혼 떨며 기...       정규     어노인팅   \n",
       "3  낯설고 고된 삶 내 마음 들추는\\n덧없는 상실 속에서\\n외롭고 거친 삶 내 마음 떨...       정규     어노인팅   \n",
       "4  영원한 시간을 빚으시고\\n영원한 생명을 놓으신 주\\n한낱 숨결 같은 세월을 딛고\\n...       정규     어노인팅   \n",
       "\n",
       "   title_song        date nb_songs hearts  \n",
       "0  나에게도 말씀하소서  2017-02-16      15곡  2,526  \n",
       "1  나에게도 말씀하소서  2017-02-16      15곡  2,526  \n",
       "2  나에게도 말씀하소서  2017-02-16      15곡  2,526  \n",
       "3  나에게도 말씀하소서  2017-02-16      15곡  2,526  \n",
       "4  나에게도 말씀하소서  2017-02-16      15곡  2,526  "
      ]
     },
     "execution_count": 24,
     "metadata": {},
     "output_type": "execute_result"
    }
   ],
   "source": [
    "notna_data= data[data['lylics'].notna()]\n",
    "notna_data.head()"
   ]
  },
  {
   "cell_type": "code",
   "execution_count": 40,
   "metadata": {},
   "outputs": [
    {
     "data": {
      "application/vnd.jupyter.widget-view+json": {
       "model_id": "2ed5d6b6973b49db92781e281fe6881e",
       "version_major": 2,
       "version_minor": 0
      },
      "text/plain": [
       "HBox(children=(IntProgress(value=0, max=10), HTML(value='')))"
      ]
     },
     "metadata": {},
     "output_type": "display_data"
    }
   ],
   "source": [
    "su_data = []\n",
    "for i in tqdm(notna_data[['index','lylics']].values[:10]):\n",
    "#     print(i)\n",
    "    lylics = '.'.join(i[1].split(\"\\n\"))\n",
    "    su_data.append([i[0],su(lylics),lylics])"
   ]
  },
  {
   "cell_type": "code",
   "execution_count": 42,
   "metadata": {},
   "outputs": [
    {
     "data": {
      "text/plain": [
       "['온님이시네. 나는 오늘 피었다 지는. 이름 없는 꽃과 같고 바다에 이는 파도와 같지만.주는 나를 붙드시고.',\n",
       " '반가운 주의 음성으로 매일 매일.반복되는 갈등 속에 하루하루.선택이란 갈림길에 놓여있는 우리들의 시간 속에서  매일 같이.사랑이란 이름으로 하루 종일.동행하며 영원으로 이끄시는.진실하신 아름다움 노래하리.주의 얼굴을 구하는 이 자리.',\n",
       " '죄배합니다.사랑합니다 사랑합니다.',\n",
       " '내설고 고된 삶 내 마음 들추는.외롭고 거친 삶 내 마음 떨구는.외로운.내 영혼 메말라 갈 때.애원하는 목소리 아파하는 맘.들으소서 주여.',\n",
       " '영혼 영혼이 서로.마주할 그 때에.고뇌의 옷을 벗고 영원을 누리리. 내 영혼이.마주하는 그 때에.마주의 옷을.마주의 그 때에.',\n",
       " '기 노래로 주를 찬양하고 기쁨으로 주를 기뻐하는.',\n",
       " '마음의 노래를 들으시는 주님.두려움에서 지금 일어나사랑으로 오라 하시며.주를 예배합니다.',\n",
       " '이 호흡 주 향한 노래는 모든 열방의 기쁨과 함께 나의 삶을 드리는 것에 변하지 않는 마음인 모든 호흡 주 향한 노래를 담아냈다.',\n",
       " '주의 신을 떠나서 내가 새벽 날개 치며.저 바다 끝에 거해도.어둠도 숨기지 못하며 주님의 위대하심을 내가 고백한다.',\n",
       " '소님의 진노가 멈추고 곧 오시네 곧 오시네.']"
      ]
     },
     "execution_count": 42,
     "metadata": {},
     "output_type": "execute_result"
    }
   ],
   "source": [
    "[i[1] for i in su_data]"
   ]
  },
  {
   "cell_type": "markdown",
   "metadata": {},
   "source": [
    "## 유사도 분석 Document similarity"
   ]
  },
  {
   "cell_type": "code",
   "execution_count": 21,
   "metadata": {},
   "outputs": [
    {
     "data": {
      "text/plain": [
       "[TASK]: SE\n",
       "[LANG]: KO\n",
       "[MODEL]: brainsbert.base.ko.kornli.korsts"
      ]
     },
     "execution_count": 21,
     "metadata": {},
     "output_type": "execute_result"
    }
   ],
   "source": [
    "from pororo import Pororo\n",
    "\n",
    "\n",
    "se = Pororo(task='se', lang='ko')\n",
    "se"
   ]
  },
  {
   "cell_type": "code",
   "execution_count": 42,
   "metadata": {},
   "outputs": [],
   "source": [
    "def remove_dupulication_lylics(lylics_list):\n",
    "    out = []\n",
    "    \n",
    "    for s in lylics_list :\n",
    "        if s not in out:\n",
    "            out.append(s)\n",
    "            \n",
    "    return out"
   ]
  },
  {
   "cell_type": "code",
   "execution_count": 67,
   "metadata": {},
   "outputs": [
    {
     "name": "stderr",
     "output_type": "stream",
     "text": [
      "/Users/hyun-young/anaconda3/envs/py37/lib/python3.7/site-packages/ipykernel_launcher.py:3: TqdmDeprecationWarning: This function will be removed in tqdm==5.0.0\n",
      "Please use `tqdm.notebook.tqdm` instead of `tqdm.tqdm_notebook`\n",
      "  This is separate from the ipykernel package so we can avoid doing imports until\n"
     ]
    },
    {
     "data": {
      "application/vnd.jupyter.widget-view+json": {
       "model_id": "b9753e25002349ca9991d4833e259209",
       "version_major": 2,
       "version_minor": 0
      },
      "text/plain": [
       "  0%|          | 0/1337 [00:00<?, ?it/s]"
      ]
     },
     "metadata": {},
     "output_type": "display_data"
    }
   ],
   "source": [
    "se_data = {}\n",
    "se_data_not_duplication = {}\n",
    "for i in tqdm(notna_data[['title','lylics']].values):\n",
    "#     print(i)\n",
    "    lylics = '. '.join(i[1].split(\"\\n\"))\n",
    "    refine_lylics = '. '.join(remove_dupulication_lylics(i[1].split(\"\\n\")))\n",
    "    se_data[i[0]] = se(lylics)\n",
    "    se_data_not_duplication[i[0]] = se(refine_lylics)"
   ]
  },
  {
   "cell_type": "code",
   "execution_count": 32,
   "metadata": {},
   "outputs": [],
   "source": [
    "from scipy import spatial"
   ]
  },
  {
   "cell_type": "code",
   "execution_count": 33,
   "metadata": {},
   "outputs": [
    {
     "name": "stderr",
     "output_type": "stream",
     "text": [
      "/Users/hyun-young/anaconda3/envs/py37/lib/python3.7/site-packages/ipykernel_launcher.py:2: TqdmDeprecationWarning: This function will be removed in tqdm==5.0.0\n",
      "Please use `tqdm.notebook.tqdm` instead of `tqdm.tqdm_notebook`\n",
      "  \n"
     ]
    },
    {
     "data": {
      "application/vnd.jupyter.widget-view+json": {
       "model_id": "96316a4ef39b40c3845ce8cfb9840779",
       "version_major": 2,
       "version_minor": 0
      },
      "text/plain": [
       "  0%|          | 0/1172 [00:00<?, ?it/s]"
      ]
     },
     "metadata": {},
     "output_type": "display_data"
    }
   ],
   "source": [
    "dict_res = dict()\n",
    "for title in tqdm(se_data.keys()):\n",
    "    temp_list = []\n",
    "    vec_a = se_data[title]\n",
    "    for another_title in se_data.keys():\n",
    "        if another_title == title :\n",
    "            continue\n",
    "        vec_b = se_data[another_title]\n",
    "        sim = 1 - spatial.distance.cosine(vec_a, vec_b)\n",
    "        if sim > 0.1 and sim < 1.0:\n",
    "            temp_list.append([another_title, sim])\n",
    "    dict_res[title] = pd.DataFrame(temp_list,columns=['title','score']).sample(frac=1.0)\\\n",
    "                            .drop_duplicates(subset=['score']).sort_values(by='score',ascending=False)\\\n",
    "                            .head(20)['title'].tolist()\n",
    "\n"
   ]
  },
  {
   "cell_type": "code",
   "execution_count": 124,
   "metadata": {},
   "outputs": [
    {
     "data": {
      "text/plain": [
       "['오직 주님 한 분만이',\n",
       " '내 맘을 열어',\n",
       " '주님을 맞이하며 (Here For You)',\n",
       " 'Jesus',\n",
       " '주 예배하는 삶 My Life To You (인도 : 소진영)',\n",
       " '시편 118편 (부제 : 주는 나의 하나님이시라)',\n",
       " '찬양의 이유 (Inst.)',\n",
       " '주님의 보좌 앞에서 Before The Throne Of God Above',\n",
       " '찬양의 이유',\n",
       " '내 구주 예수님',\n",
       " '내 안의 중심이 주를 찬양',\n",
       " '두 손 들고 찬양합니다',\n",
       " '언제나 주만 (MR)',\n",
       " '이 세상 끝까지',\n",
       " '크신 사랑 온 땅 찬양해',\n",
       " '찬양의 제사 드리며 (Inst.)',\n",
       " '주님이 부르신 곳',\n",
       " '이 세상을 본받지 않으며 (부제 : 주님이 부르신 곳)',\n",
       " '주님만 찬양하리',\n",
       " '나 이제 돌아가']"
      ]
     },
     "execution_count": 124,
     "metadata": {},
     "output_type": "execute_result"
    }
   ],
   "source": [
    "dict_res['예배합니다']"
   ]
  },
  {
   "cell_type": "code",
   "execution_count": 125,
   "metadata": {},
   "outputs": [
    {
     "data": {
      "text/plain": [
       "['주님 큰 영광 받으소서',\n",
       " '내 안의 중심이 주를 찬양',\n",
       " '내 영혼에 빛',\n",
       " '주님의 마음을 본받는 자',\n",
       " '내가 매일 기쁘게',\n",
       " '나의 하나님은',\n",
       " '세상의 길과 다른 길 (The Incompatible Way) (인도 : 심종호)',\n",
       " '주님 보좌 앞에 나아가',\n",
       " '주님의 마음을 본받는 자 (Inst.)',\n",
       " '하늘에 가득 찬 영광의 하나님',\n",
       " '승리하리라',\n",
       " '내 영혼이 은총 입어',\n",
       " '모든 민족에게',\n",
       " '주의 집에 영광이 가득해',\n",
       " 'With Me (전능하신 하나님)',\n",
       " '주님 계신 곳에 나가리',\n",
       " '주님이 부르신 곳',\n",
       " '우리는 주의 움직이는 교회',\n",
       " '이 세상을 본받지 않으며 (부제 : 주님이 부르신 곳)',\n",
       " '우리는 주의 교회']"
      ]
     },
     "execution_count": 125,
     "metadata": {},
     "output_type": "execute_result"
    }
   ],
   "source": [
    "dict_res['우리 주 하나님']"
   ]
  },
  {
   "cell_type": "markdown",
   "metadata": {},
   "source": [
    "### using tf-idf"
   ]
  },
  {
   "cell_type": "code",
   "execution_count": 22,
   "metadata": {},
   "outputs": [],
   "source": [
    "from sklearn.feature_extraction.text import TfidfVectorizer\n",
    "\n",
    "\n",
    "tfidf_vectorizer = TfidfVectorizer() # TF-IDF 객체선언"
   ]
  },
  {
   "cell_type": "code",
   "execution_count": 43,
   "metadata": {},
   "outputs": [
    {
     "data": {
      "application/vnd.jupyter.widget-view+json": {
       "model_id": "db381c7fcb9049159d96559ceaeb41b4",
       "version_major": 2,
       "version_minor": 0
      },
      "text/plain": [
       "  0%|          | 0/1337 [00:00<?, ?it/s]"
      ]
     },
     "metadata": {},
     "output_type": "display_data"
    }
   ],
   "source": [
    "lylics_data = {}\n",
    "for i in tqdm(notna_data[['title','lylics']].values):\n",
    "#     print(i)\n",
    "    lylics_data[i[0]] = '. '.join(remove_dupulication_lylics(i[1].split(\"\\n\")))"
   ]
  },
  {
   "cell_type": "code",
   "execution_count": 44,
   "metadata": {},
   "outputs": [],
   "source": [
    "target = list(lylics_data.values())"
   ]
  },
  {
   "cell_type": "code",
   "execution_count": 56,
   "metadata": {},
   "outputs": [],
   "source": [
    "from konlpy.tag import Okt\n",
    "\n",
    "\n",
    "okt = Okt()\n",
    "\n",
    "doc_nouns_list = [' '.join(okt.nouns(doc)) for doc in target]\n",
    "# print(doc_nouns_list)\n"
   ]
  },
  {
   "cell_type": "markdown",
   "metadata": {},
   "source": [
    "### 베스트 모델\n",
    "\n",
    "- tfidf + 중복 제거 + 명사 추출"
   ]
  },
  {
   "cell_type": "code",
   "execution_count": 59,
   "metadata": {},
   "outputs": [],
   "source": [
    "matrix2 = tfidf_vectorizer.fit_transform(doc_nouns_list) # 단어를 학습시킴\n",
    "tfidf_vectorizer.vocabulary_ # 단어사전을 출력\n",
    "\n",
    "# tfidf_vectorizer.idf_.shape\n",
    "doc_similarities2 = (matrix2 * matrix2.T)"
   ]
  },
  {
   "cell_type": "code",
   "execution_count": 2,
   "metadata": {},
   "outputs": [
    {
     "ename": "NameError",
     "evalue": "name 'tfidf_vectorizer' is not defined",
     "output_type": "error",
     "traceback": [
      "\u001b[0;31m---------------------------------------------------------------------------\u001b[0m",
      "\u001b[0;31mNameError\u001b[0m                                 Traceback (most recent call last)",
      "\u001b[0;32m<ipython-input-2-57757243d932>\u001b[0m in \u001b[0;36m<module>\u001b[0;34m\u001b[0m\n\u001b[0;32m----> 1\u001b[0;31m \u001b[0msorted\u001b[0m\u001b[0;34m(\u001b[0m\u001b[0mtfidf_vectorizer\u001b[0m\u001b[0;34m.\u001b[0m\u001b[0mvocabulary_\u001b[0m\u001b[0;34m.\u001b[0m\u001b[0mitems\u001b[0m\u001b[0;34m(\u001b[0m\u001b[0;34m)\u001b[0m\u001b[0;34m)\u001b[0m\u001b[0;34m\u001b[0m\u001b[0;34m\u001b[0m\u001b[0m\n\u001b[0m",
      "\u001b[0;31mNameError\u001b[0m: name 'tfidf_vectorizer' is not defined"
     ]
    }
   ],
   "source": [
    "sorted(tfidf_vectorizer.vocabulary_.items())\n"
   ]
  },
  {
   "cell_type": "code",
   "execution_count": 60,
   "metadata": {},
   "outputs": [],
   "source": [
    "tfidf_result2 = {}\n",
    "for idx, doc_sim in enumerate(doc_similarities2.toarray()):\n",
    "    tfidf_result2[list(lylics_data.keys())[idx]]  = sorted(list(zip(list(lylics_data.keys()), doc_sim)), key = lambda x: x[1], reverse= True)[:20]"
   ]
  },
  {
   "cell_type": "code",
   "execution_count": 61,
   "metadata": {},
   "outputs": [],
   "source": [
    "title2nouns = dict(zip(list(lylics_data.keys()),doc_nouns_list))"
   ]
  },
  {
   "cell_type": "code",
   "execution_count": 51,
   "metadata": {},
   "outputs": [
    {
     "data": {
      "text/plain": [
       "[('시선', 0.9999999999999999),\n",
       " ('주님의 마음 있는 곳', 0.4378918215795345),\n",
       " ('찬양의 이유', 0.32257294093078104),\n",
       " ('Fire', 0.31701680606679894),\n",
       " ('놀라운 주 (Wonderful God)', 0.3119413894993927),\n",
       " ('주님 나라 임하시네', 0.3115233999055927),\n",
       " ('You Are God', 0.3089455492865161),\n",
       " ('기뻐하라', 0.3078290044435147),\n",
       " ('해가 뜨는 데부터', 0.2988455886455534),\n",
       " ('주 예수의 날에', 0.2918655063159841),\n",
       " ('광대하신 주님', 0.28856096724092106),\n",
       " ('새로운 마음', 0.28521672937742665),\n",
       " ('모든 열방 주 볼 때까지', 0.2751600803849819),\n",
       " ('소리 높여 (MR)', 0.27405531402143846),\n",
       " ('주의 말씀 앞에 선', 0.2729465871724954),\n",
       " ('주님의 영광', 0.26947621031668156),\n",
       " ('사랑하는 나의 아버지', 0.26649789601543217),\n",
       " ('하나님 말씀으로', 0.264364389613325),\n",
       " ('그곳에서 시작되네 Where It Begins', 0.2619071606394783),\n",
       " ('주님께 감사 드리라', 0.26081044266104436)]"
      ]
     },
     "execution_count": 51,
     "metadata": {},
     "output_type": "execute_result"
    }
   ],
   "source": [
    "tfidf_result2['시선']"
   ]
  },
  {
   "cell_type": "code",
   "execution_count": 38,
   "metadata": {},
   "outputs": [
    {
     "data": {
      "text/plain": [
       "[('성령이 오셨네', 1.0000000000000002),\n",
       " ('성령 하나님', 0.47317984992526363),\n",
       " ('오소서', 0.4424735185955251),\n",
       " ('내 맘속에 거하시는 (Joy In The Holy Ghost)', 0.4376015909359222),\n",
       " ('성령의 바람 (Wind Of God)', 0.43551403896848684),\n",
       " ('메마른 우리마음', 0.4165050893816822),\n",
       " ('With One Heart', 0.3460008461071033),\n",
       " ('성령의 불로', 0.33652253295879464),\n",
       " ('주님의 영광 나타나셨네 (The Lord Has Displayed His Glory)', 0.3303593517489906),\n",
       " ('나를 가르치소서', 0.3221695283096232),\n",
       " ('기뻐할 수 있음은 Rejoicing In You (인도 : 심종호)', 0.31965538010891675),\n",
       " ('부어주소서 주님의 성령', 0.3185307280715916),\n",
       " ('영원한 사귐으로', 0.31503890853817484),\n",
       " ('성령의 비가 내리네', 0.3143068842361782),\n",
       " ('성령이여 ＆ 성령이여 내 영혼에', 0.3103827457360059),\n",
       " ('거룩 거룩 거룩 + 3 In One', 0.3098693861546156),\n",
       " ('눈을 들어', 0.30792530994105904),\n",
       " ('주는 나의 빛되사', 0.30375826988060395),\n",
       " ('하늘의 나는 새도 (강명식)', 0.3037488020400466),\n",
       " ('온 세계 위에', 0.3032907003018428)]"
      ]
     },
     "execution_count": 38,
     "metadata": {},
     "output_type": "execute_result"
    }
   ],
   "source": [
    "tfidf_result2['성령이 오셨네']"
   ]
  },
  {
   "cell_type": "code",
   "execution_count": 52,
   "metadata": {},
   "outputs": [
    {
     "data": {
      "text/plain": [
       "[('하나님의 사랑이', 1.0000000000000002),\n",
       " ('사랑의 열매 (Inst.)', 0.6277552043637581),\n",
       " ('사랑의 열매 (마커스 축복송)', 0.5189830840666555),\n",
       " ('당신을 향한 노래', 0.3937647229760014),\n",
       " ('허망해 보이나', 0.3815542348039933),\n",
       " ('우리 모일 때 주 성령 임하리', 0.37762529185279964),\n",
       " ('사랑 중에 사랑 (Feat. Sein) (Prod. Jamieh)', 0.36375883223410166),\n",
       " ('축복하소서', 0.3570574425011697),\n",
       " ('여호와 주님', 0.31695254414525165),\n",
       " ('고된 하루를 보내고', 0.31504595559033205),\n",
       " ('당신은 하나님의 거룩한 성전', 0.3134174583804665),\n",
       " ('시간을 뚫고 (Prod. Jamieh)', 0.3001065017754215),\n",
       " ('길을 만드시는 분 (Way Maker) (인도 : 소진영)', 0.2991971514938816),\n",
       " ('축복의 통로', 0.2978852648219983),\n",
       " ('우리 주이름으로 모였으니', 0.29773059391260576),\n",
       " ('세상 가운데 소망을', 0.2974110595870739),\n",
       " ('시간을 뚫고', 0.2943902375403329),\n",
       " ('주의 집에 거하는 자 (Blessed) (인도 : 심종호)', 0.2889707196374097),\n",
       " ('주만 바라볼지라', 0.28800463095986345),\n",
       " ('빛 되신 주', 0.2876667884885913)]"
      ]
     },
     "execution_count": 52,
     "metadata": {},
     "output_type": "execute_result"
    }
   ],
   "source": [
    "tfidf_result2['하나님의 사랑이']"
   ]
  },
  {
   "cell_type": "code",
   "execution_count": 65,
   "metadata": {},
   "outputs": [
    {
     "data": {
      "text/plain": [
       "[('유월절의 어린양의 피로', 1.0),\n",
       " ('예수 피 밖에', 0.46738822155280685),\n",
       " ('흐르네 주 보혈', 0.4490149476979082),\n",
       " ('죄에서 자유를 얻게 함은', 0.43645251419722364),\n",
       " ('주의 보혈 능력있도다', 0.43538922511506245),\n",
       " ('승리를 주신 주님께', 0.41857042720778137),\n",
       " ('보혈을 지나', 0.3853981707646668),\n",
       " ('예수 피를 힘입어 (오재성)', 0.2520651909457477),\n",
       " ('예수 피를 힘입어', 0.24164242478627448),\n",
       " ('구원의 강', 0.22550100794494993),\n",
       " ('주 없이 살 수 없네', 0.22461591349703158),\n",
       " ('하나님 우리를 사랑하사', 0.21817676141917036),\n",
       " ('주님의 임재 앞에서', 0.21644049321353528),\n",
       " ('피난처', 0.21518497035518067),\n",
       " ('주님의 임재 앞에서 (Bonus Track)', 0.20219528908127654),\n",
       " ('큰 죄에 빠진 날 위해 - 나 주의 도움 받고자', 0.19437227382042221),\n",
       " ('엎드려 경배해 (Mercy)', 0.1787005039250095),\n",
       " ('하나님의 그늘 아래', 0.16330073241326448),\n",
       " ('은혜 아래 있네', 0.16175446091663648),\n",
       " ('하늘보좌', 0.16135484112263188)]"
      ]
     },
     "execution_count": 65,
     "metadata": {},
     "output_type": "execute_result"
    }
   ],
   "source": [
    "tfidf_result2['유월절의 어린양의 피로']"
   ]
  }
 ],
 "metadata": {
  "kernelspec": {
   "display_name": "Python [conda env:mightydata]",
   "language": "python",
   "name": "conda-env-mightydata-py"
  },
  "language_info": {
   "codemirror_mode": {
    "name": "ipython",
    "version": 3
   },
   "file_extension": ".py",
   "mimetype": "text/x-python",
   "name": "python",
   "nbconvert_exporter": "python",
   "pygments_lexer": "ipython3",
   "version": "3.8.10"
  }
 },
 "nbformat": 4,
 "nbformat_minor": 2
}
